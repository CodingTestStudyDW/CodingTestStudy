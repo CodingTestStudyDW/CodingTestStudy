{
 "cells": [
  {
   "cell_type": "markdown",
   "metadata": {},
   "source": [
    "## 백준(1041/골드5) : 주사위 / [문제 링크](https://www.acmicpc.net/problem/1041)"
   ]
  },
  {
   "cell_type": "code",
   "execution_count": 12,
   "metadata": {},
   "outputs": [
    {
     "name": "stdout",
     "output_type": "stream",
     "text": [
      "15\n"
     ]
    }
   ],
   "source": [
    "n = int(input())\n",
    "dice = list(map(int, input().split()))\n",
    "answer = 0\n",
    "sum_list = []\n",
    "\n",
    "if(n==1):\n",
    "    dice = sorted(dice)\n",
    "    answer += sum(dice) - dice[-1]\n",
    "else:\n",
    "    sum_list.append(min(dice[0], dice[5]))\n",
    "    sum_list.append(min(dice[1], dice[4]))\n",
    "    sum_list.append(min(dice[2], dice[3]))\n",
    "    sum_list = sorted(sum_list)\n",
    "\n",
    "    min1 = sum_list[0]\n",
    "    min2 = sum_list[0] + sum_list[1]\n",
    "    min3 = sum_list[0] + sum_list[1] + sum_list[2]\n",
    "\n",
    "    n1 = (n-2)*(n-2) + 4*(n-1)*(n-2)\n",
    "    n2 = 4*(n-2) + 4*(n-1)\n",
    "    n3 = 4\n",
    "\n",
    "    answer += n1 * min1\n",
    "    answer += n2 * min2\n",
    "    answer += n3 * min3\n",
    "\n",
    "print(answer)"
   ]
  },
  {
   "cell_type": "code",
   "execution_count": null,
   "metadata": {},
   "outputs": [],
   "source": []
  }
 ],
 "metadata": {
  "interpreter": {
   "hash": "b3ba2566441a7c06988d0923437866b63cedc61552a5af99d1f4fb67d367b25f"
  },
  "kernelspec": {
   "display_name": "Python 3.8.3 64-bit ('base': conda)",
   "language": "python",
   "name": "python3"
  },
  "language_info": {
   "codemirror_mode": {
    "name": "ipython",
    "version": 3
   },
   "file_extension": ".py",
   "mimetype": "text/x-python",
   "name": "python",
   "nbconvert_exporter": "python",
   "pygments_lexer": "ipython3",
   "version": "3.8.3"
  },
  "orig_nbformat": 4
 },
 "nbformat": 4,
 "nbformat_minor": 2
}
