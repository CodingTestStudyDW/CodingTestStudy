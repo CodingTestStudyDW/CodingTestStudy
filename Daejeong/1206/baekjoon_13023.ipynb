{
 "cells": [
  {
   "cell_type": "markdown",
   "metadata": {},
   "source": [
    "## 백준(13023/골드5) : ABCDE / [문제 링크](https://www.acmicpc.net/problem/13023)"
   ]
  },
  {
   "cell_type": "code",
   "execution_count": null,
   "metadata": {},
   "outputs": [],
   "source": [
    "import sys\n",
    "\n",
    "N, M = map(int, sys.stdin.readline().split())\n",
    "arr = [[] for _ in range(N)]\n",
    "visited = [False] * N\n",
    "\n",
    "for _ in range(M):\n",
    "    a, b = map(int, sys.stdin.readline().split())\n",
    "    arr[a].append(b)\n",
    "    arr[b].append(a)\n",
    "\n",
    "def dfs(idx, number):\n",
    "    if number == 4:\n",
    "        print(1)\n",
    "        exit()\n",
    "    for i in arr[idx]:\n",
    "        if not visited[i]:\n",
    "            visited[i] = True\n",
    "            dfs(i, number + 1)\n",
    "            visited[i] = False\n",
    "\n",
    "for i in range(N):\n",
    "    visited[i] = True\n",
    "    dfs(i, 0)\n",
    "    visited[i] = False\n",
    "\n",
    "print(0)"
   ]
  },
  {
   "cell_type": "code",
   "execution_count": null,
   "metadata": {},
   "outputs": [],
   "source": []
  }
 ],
 "metadata": {
  "interpreter": {
   "hash": "b3ba2566441a7c06988d0923437866b63cedc61552a5af99d1f4fb67d367b25f"
  },
  "kernelspec": {
   "display_name": "Python 3.8.3 64-bit ('base': conda)",
   "language": "python",
   "name": "python3"
  },
  "language_info": {
   "codemirror_mode": {
    "name": "ipython",
    "version": 3
   },
   "file_extension": ".py",
   "mimetype": "text/x-python",
   "name": "python",
   "nbconvert_exporter": "python",
   "pygments_lexer": "ipython3",
   "version": "3.8.3"
  },
  "orig_nbformat": 4
 },
 "nbformat": 4,
 "nbformat_minor": 2
}
