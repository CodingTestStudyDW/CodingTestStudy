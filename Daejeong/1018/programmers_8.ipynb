{
 "cells": [
  {
   "cell_type": "markdown",
   "metadata": {},
   "source": [
    "## 프로그래머스(Lv.1/완전 탐색) : 모의고사 / [문제 링크](https://programmers.co.kr/learn/courses/30/lessons/42840)"
   ]
  },
  {
   "cell_type": "code",
   "execution_count": null,
   "metadata": {},
   "outputs": [],
   "source": [
    "def first(answers):\n",
    "    cnt = 0\n",
    "    # 1 2 3 4 5 1 2 3 4 5\n",
    "    for idx, answer in enumerate(answers):\n",
    "        print((idx % 5) + 1)\n",
    "        if answer == (idx % 5) + 1:\n",
    "            cnt += 1\n",
    "    return cnt\n",
    "            \n",
    "def second(answers):\n",
    "    cnt = 0\n",
    "    pattern = [1, 3, 4, 5]\n",
    "    # 2 1 2 3 2 4 2 5\n",
    "    for idx, answer in enumerate(answers):\n",
    "        if (idx+1)%2 == 1 and answer == 2:\n",
    "            cnt += 1\n",
    "        elif (idx+1)%2 == 0 and answer == pattern[(idx//2)%4]:\n",
    "            cnt += 1\n",
    "    return cnt\n",
    "\n",
    "def third(answers):\n",
    "    cnt = 0\n",
    "    pattern = [3, 1, 2, 4, 5]\n",
    "    # 3 3 1 1 2 2 4 4 5 5\n",
    "    for idx, answer in enumerate(answers):\n",
    "        if answer == pattern[idx//2%5]:\n",
    "            cnt += 1\n",
    "    return cnt\n",
    "\n",
    "def solution(answers):\n",
    "    answer = []\n",
    "    answer.append(first(answers))\n",
    "    answer.append(second(answers))\n",
    "    answer.append(third(answers))\n",
    "    \n",
    "    max_result = max(answer)\n",
    "    result = []\n",
    "    for idx, i in enumerate(answer):\n",
    "        if i == max_result:\n",
    "            result.append(idx + 1)\n",
    "    \n",
    "    return result"
   ]
  },
  {
   "cell_type": "code",
   "execution_count": null,
   "metadata": {},
   "outputs": [],
   "source": [
    "def solution(answers):\n",
    "    pattern1 = [1,2,3,4,5]\n",
    "    pattern2 = [2,1,2,3,2,4,2,5]\n",
    "    pattern3 = [3,3,1,1,2,2,4,4,5,5]\n",
    "    score = [0, 0, 0]\n",
    "    result = []\n",
    "\n",
    "    for idx, answer in enumerate(answers):\n",
    "        if answer == pattern1[idx%len(pattern1)]:\n",
    "            score[0] += 1\n",
    "        if answer == pattern2[idx%len(pattern2)]:\n",
    "            score[1] += 1\n",
    "        if answer == pattern3[idx%len(pattern3)]:\n",
    "            score[2] += 1\n",
    "\n",
    "    for idx, s in enumerate(score):\n",
    "        if s == max(score):\n",
    "            result.append(idx+1)\n",
    "\n",
    "    return result"
   ]
  }
 ],
 "metadata": {
  "language_info": {
   "name": "python"
  },
  "orig_nbformat": 4
 },
 "nbformat": 4,
 "nbformat_minor": 2
}
