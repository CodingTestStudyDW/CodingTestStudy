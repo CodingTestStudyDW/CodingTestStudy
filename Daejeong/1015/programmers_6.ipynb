{
 "cells": [
  {
   "cell_type": "markdown",
   "metadata": {},
   "source": [
    "## 프로그래머스(Lv.1/2021 Dev-Matching: 웹 백엔드 개발...) : 로또 최고순위와 최저순위 / [문제 링크](https://programmers.co.kr/learn/courses/30/lessons/77484)"
   ]
  },
  {
   "cell_type": "code",
   "execution_count": null,
   "metadata": {},
   "outputs": [],
   "source": [
    "# 내꺼\n",
    "def solution(lottos, win_nums):\n",
    "    rank_top, rank_bottom = 1, 1\n",
    "    \n",
    "    for lotto in lottos:\n",
    "        # 반복을 돌렸을때 전부 맞으면 \n",
    "        if lotto not in win_nums:\n",
    "            rank_top += 1\n",
    "            rank_bottom += 1\n",
    "            if lotto == 0:\n",
    "                rank_top -= 1\n",
    "        \n",
    "        # 7로 넘어가면 6으로 돌려주세요\n",
    "        if rank_top > 6:\n",
    "            rank_top = 6\n",
    "        if rank_bottom > 6:\n",
    "            rank_bottom = 6\n",
    "        \n",
    "    answer = [rank_top, rank_bottom]\n",
    "    \n",
    "    return answer"
   ]
  },
  {
   "cell_type": "code",
   "execution_count": null,
   "metadata": {},
   "outputs": [],
   "source": [
    "# 남에꺼\n",
    "def solution(lottos, win_nums):\n",
    "\n",
    "    rank=[6,6,5,4,3,2,1]\n",
    "\n",
    "    cnt_0 = lottos.count(0)\n",
    "    ans = 0\n",
    "    for x in win_nums:\n",
    "        if x in lottos:\n",
    "            ans += 1\n",
    "    return rank[cnt_0 + ans],rank[ans]"
   ]
  }
 ],
 "metadata": {
  "language_info": {
   "name": "python"
  },
  "orig_nbformat": 4
 },
 "nbformat": 4,
 "nbformat_minor": 2
}
