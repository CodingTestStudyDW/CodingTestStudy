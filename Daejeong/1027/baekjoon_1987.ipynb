{
 "cells": [
  {
   "cell_type": "markdown",
   "metadata": {},
   "source": [
    "## 백준(1987번/골드4/DFS) : 알파벳 / [문제 링크](https://www.acmicpc.net/problem/1987)"
   ]
  },
  {
   "cell_type": "code",
   "execution_count": 46,
   "metadata": {},
   "outputs": [
    {
     "name": "stdout",
     "output_type": "stream",
     "text": [
      "6\n"
     ]
    }
   ],
   "source": [
    "# Version 1 알고리즘상 문제는 없어보이는데 시간초과 문제로 컷\n",
    "\n",
    "dx = [0, -1, 0, 1]\n",
    "dy = [1, 0, -1, 0]\n",
    "\n",
    "R, C = map(int, input().split())\n",
    "board = [input() for _ in range(R)]\n",
    "visited = [[False]*C for _ in range(R)]\n",
    "words = [board[0][0]]\n",
    "answer = 1\n",
    "\n",
    "def dfs(board, x, y, words, visited, count):\n",
    "    global answer\n",
    "    # 현재 노드 방문 & 해당 좌표 문자 넣기\n",
    "    answer = max(answer, count)\n",
    "\n",
    "    # 4방면 모두 확인\n",
    "    for i in range(4):\n",
    "        nx = x + dx[i]\n",
    "        ny = y + dy[i]\n",
    "\n",
    "        # 현재 좌표가 board의 크기를 들어가고, 이미 확인해본 단어가 아니고, 가본적도 없는 위치라면\n",
    "        if (0 <= nx < R) and (0 <= ny < C) and (board[nx][ny] not in words) and not visited[nx][ny]:\n",
    "            # words에 해당 단어 추가\n",
    "            words.append(board[nx][ny])\n",
    "            # 해당 위치 방문 처리\n",
    "            visited[nx][ny] = True\n",
    "            # 다음으로 이동\n",
    "            dfs(board, nx, ny, words, visited, count+1)\n",
    "\n",
    "            # 백 트래킹을 위한 장치 (다음칸에서 갈곳이없어서 돌아왔을때, 넘어갔던 다음칸꺼를 빼줘야함)\n",
    "            words.remove(board[nx][ny])\n",
    "            visited[nx][ny] = False\n",
    "\n",
    "dfs(board, 0, 0, words, visited, 1)\n",
    "print(answer)"
   ]
  },
  {
   "cell_type": "code",
   "execution_count": null,
   "metadata": {},
   "outputs": [],
   "source": [
    "# 구글링해서 나온 시간초과 해결 버전\n",
    "\n",
    "import sys \n",
    "input = sys.stdin.readline\n",
    "\n",
    "def dfs(x, y, cnt): \n",
    "    global ans \n",
    "    ans = max(ans, cnt)\n",
    "\n",
    "    for i in range(4): \n",
    "        tx = x + dx[i] \n",
    "        ty = y + dy[i] \n",
    "\n",
    "        if 0 <= tx < r and 0 <= ty < c and visited[board[tx][ty]] != 1: \n",
    "            visited[board[tx][ty]] = 1 \n",
    "            dfs(tx, ty, cnt+1) \n",
    "            visited[board[tx][ty]] = 0 \n",
    "\n",
    "dx = (-1, 0, 1, 0) \n",
    "dy = (0, 1, 0, -1) \n",
    "\n",
    "# 붙어있는 문자열 한 번에 입력 받기 \n",
    "# CAAB => ['C', 'C', 'A', 'B'] \n",
    "# [list(input().rstrip()) for _ in range(r))\n",
    "#  map을 이용해 자른 문자를 아스키코드로 바로 변환 \n",
    "r, c = map(int, input().split()) \n",
    "board = [list(map(lambda x: ord(x)-65, input().rstrip())) for _ in range(r)] \n",
    "visited = [0] * 26 \n",
    "\n",
    "ans = 0 \n",
    "visited[board[0][0]] = 1 \n",
    "dfs(0, 0, 1) \n",
    "print(ans)\n"
   ]
  }
 ],
 "metadata": {
  "interpreter": {
   "hash": "63fd5069d213b44bf678585dea6b12cceca9941eaf7f819626cde1f2670de90d"
  },
  "kernelspec": {
   "display_name": "Python 3.9.5 64-bit",
   "name": "python3"
  },
  "language_info": {
   "codemirror_mode": {
    "name": "ipython",
    "version": 3
   },
   "file_extension": ".py",
   "mimetype": "text/x-python",
   "name": "python",
   "nbconvert_exporter": "python",
   "pygments_lexer": "ipython3",
   "version": "3.9.5"
  },
  "orig_nbformat": 4
 },
 "nbformat": 4,
 "nbformat_minor": 2
}
