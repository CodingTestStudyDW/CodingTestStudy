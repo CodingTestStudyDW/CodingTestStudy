{
 "cells": [
  {
   "cell_type": "markdown",
   "metadata": {},
   "source": [
    "## 백준(1013번/골드5) : Contact / [문제 링크](https://www.acmicpc.net/problem/1013)"
   ]
  },
  {
   "cell_type": "code",
   "execution_count": 2,
   "metadata": {},
   "outputs": [],
   "source": [
    "# 극한으로 줄인 버젼\n",
    "# 정규 표현식 문제\n",
    "\n",
    "import re, sys\n",
    "for _ in range(int(sys.stdin.readline())):\n",
    "    (lambda x: print('YES') if x else print('NO'))(re.compile('(100+1+|01)+').fullmatch(input()))"
   ]
  },
  {
   "cell_type": "code",
   "execution_count": null,
   "metadata": {},
   "outputs": [],
   "source": [
    "# 제일 빨랐던 버전\n",
    "import re\n",
    "\n",
    "n = int(input())\n",
    "results = [re.compile('(100+1+|01)+').fullmatch(input()) for _ in range(n)]\n",
    "\n",
    "for result in results:\n",
    "    if result:\n",
    "        print('YES')\n",
    "    else:\n",
    "        print('NO')"
   ]
  },
  {
   "cell_type": "code",
   "execution_count": null,
   "metadata": {},
   "outputs": [],
   "source": [
    "# 제일 메모리를 덜 잡아먹었던 버전\n",
    "import re\n",
    "\n",
    "n = int(input())\n",
    "\n",
    "def check_word(word):\n",
    "    p = re.compile('(100+1+|01)+')\n",
    "    \n",
    "    if p.fullmatch(word): print('YES')\n",
    "    else:                 print('NO')\n",
    "\n",
    "results = [check_word(input()) for _ in range(n)]"
   ]
  },
  {
   "cell_type": "code",
   "execution_count": null,
   "metadata": {},
   "outputs": [],
   "source": [
    "# 제일 처음 버전\n",
    "import re\n",
    "\n",
    "n = int(input())\n",
    "\n",
    "def check_word(word):\n",
    "    p = re.compile('(100+1+|01)+')\n",
    "    m = p.fullmatch(word)\n",
    "\n",
    "    if m:\n",
    "        print('YES')\n",
    "    else:\n",
    "        print('NO')\n",
    "\n",
    "for _ in range(n):\n",
    "    word = input()\n",
    "    check_word(word)"
   ]
  }
 ],
 "metadata": {
  "interpreter": {
   "hash": "b3ba2566441a7c06988d0923437866b63cedc61552a5af99d1f4fb67d367b25f"
  },
  "kernelspec": {
   "display_name": "Python 3.8.3 64-bit ('base': conda)",
   "name": "python3"
  },
  "language_info": {
   "codemirror_mode": {
    "name": "ipython",
    "version": 3
   },
   "file_extension": ".py",
   "mimetype": "text/x-python",
   "name": "python",
   "nbconvert_exporter": "python",
   "pygments_lexer": "ipython3",
   "version": "3.8.3"
  },
  "orig_nbformat": 4
 },
 "nbformat": 4,
 "nbformat_minor": 2
}
