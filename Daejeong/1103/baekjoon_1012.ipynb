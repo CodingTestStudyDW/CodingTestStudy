{
 "cells": [
  {
   "cell_type": "markdown",
   "metadata": {},
   "source": [
    "## 백준(1012번/실버2) : 유기농 배추 / [문제 링크](https://www.acmicpc.net/problem/1012)"
   ]
  },
  {
   "cell_type": "code",
   "execution_count": null,
   "metadata": {},
   "outputs": [],
   "source": [
    "# Version 1\n",
    "from collections import deque\n",
    "\n",
    "t = int(input())\n",
    "dx = [0, -1, 0, 1]\n",
    "dy = [1, 0, -1, 0]\n",
    "\n",
    "def check_cabbage(m, n, cabbage, visited=[], bugs=0):\n",
    "    # 확인할 남은 배추가 있으면 진행\n",
    "    while cabbage:\n",
    "        loc = cabbage.popleft()\n",
    "        x = loc[0]\n",
    "        y = loc[1]\n",
    "\n",
    "        bug = False\n",
    "        for i in range(4):\n",
    "            nx = x + dx[i]\n",
    "            ny = y + dy[i]\n",
    "\n",
    "            # 주변에 배추가 있을때, 배추가 없을때까지 계속 확인\n",
    "            if ([nx, ny] in cabbage and [nx, ny] not in visited) and (0 <= nx <= m-1 and 0 <= ny <= n-1):\n",
    "                visited.append([nx, ny])\n",
    "                bug = True\n",
    "\n",
    "        if not bug and cabbage:\n",
    "            bugs += 1\n",
    "    # 확인할 배추가 없으면 끝\n",
    "    else:\n",
    "        return bugs\n",
    "\n",
    "for _ in range(t):\n",
    "    m, n, k = map(int, input().split())\n",
    "        # 배추밭에 배추 위치\n",
    "    cabbage = deque([list(map(int, input().split())) for _ in range(k)])\n",
    "\n",
    "    print(check_cabbage(m, n, cabbage))"
   ]
  },
  {
   "cell_type": "code",
   "execution_count": 7,
   "metadata": {},
   "outputs": [
    {
     "name": "stdout",
     "output_type": "stream",
     "text": [
      "5\n",
      "1\n"
     ]
    }
   ],
   "source": [
    "# Version 2\n",
    "# Recursion Error (재귀 호출이 너무 많이됐을때)\n",
    "from collections import deque\n",
    "\n",
    "t = int(input())\n",
    "dx = [0, -1, 0, 1]\n",
    "dy = [1, 0, -1, 0]\n",
    "\n",
    "def check_cabbage(cabbage):\n",
    "    # 4방향으로 배추가 있는지 확인\n",
    "    global count\n",
    "    check = False\n",
    "\n",
    "    loc = cabbage.popleft()\n",
    "    x = loc[0]\n",
    "    y = loc[1]\n",
    "\n",
    "    for i in range(4):\n",
    "        nx = x + dx[i]\n",
    "        ny = y + dy[i]\n",
    "\n",
    "        # 주변에 배추가 있을때, 배추가 없을때까지 계속 확인\n",
    "        if [nx, ny] in cabbage and (0 <= nx <= m-1 and 0 <= ny <= n-1):\n",
    "            check = True\n",
    "            check_cabbage(cabbage)\n",
    "\n",
    "    if check:\n",
    "        pass\n",
    "    else:\n",
    "        count += 1\n",
    "    \n",
    "    return cabbage\n",
    "\n",
    "for _ in range(t):\n",
    "    m, n, k = map(int, input().split())\n",
    "    count = 0\n",
    "\n",
    "    # 배추 위치 삽입\n",
    "    cabbage = deque([list(map(int, input().split())) for _ in range(k)])\n",
    "\n",
    "    while cabbage:\n",
    "        cabbage = check_cabbage(cabbage)\n",
    "\n",
    "    print(count)"
   ]
  },
  {
   "cell_type": "code",
   "execution_count": null,
   "metadata": {},
   "outputs": [],
   "source": [
    "# Version 3\n",
    "# 하다가 열불나서 블로그에있는거 줍줍해옴\n",
    "\n",
    "t = int(input())\n",
    "dx = [1, -1, 0, 0]\n",
    "dy = [0, 0, -1, 1]\n",
    "\n",
    "def bfs(x, y):\n",
    "    queue = [[x, y]]\n",
    "    while queue:\n",
    "        a, b = queue[0][0], queue[0][1]\n",
    "        del queue[0]\n",
    "        for i in range(4):\n",
    "            q = a + dx[i]\n",
    "            w = b + dy[i]\n",
    "            if 0 <= q < n and 0 <= w < m and s[q][w] == 1:\n",
    "                s[q][w] = 0\n",
    "                queue.append([q, w])\n",
    "\n",
    "for i in range(t):\n",
    "\n",
    "    m, n, k = map(int, input().split())\n",
    "    s = [[0] * m for i in range(n)]\n",
    "\n",
    "    cnt = 0\n",
    "    for j in range(k):\n",
    "        a, b = map(int, input().split())\n",
    "        s[b][a] = 1\n",
    "\n",
    "    for q in range(n):\n",
    "        for w in range(m):\n",
    "            if s[q][w] == 1:\n",
    "                bfs(q, w)\n",
    "                s[q][w] = 0\n",
    "                cnt += 1\n",
    "\n",
    "    print(cnt)"
   ]
  }
 ],
 "metadata": {
  "interpreter": {
   "hash": "b3ba2566441a7c06988d0923437866b63cedc61552a5af99d1f4fb67d367b25f"
  },
  "kernelspec": {
   "display_name": "Python 3.8.3 64-bit ('base': conda)",
   "name": "python3"
  },
  "language_info": {
   "codemirror_mode": {
    "name": "ipython",
    "version": 3
   },
   "file_extension": ".py",
   "mimetype": "text/x-python",
   "name": "python",
   "nbconvert_exporter": "python",
   "pygments_lexer": "ipython3",
   "version": "3.8.3"
  },
  "orig_nbformat": 4
 },
 "nbformat": 4,
 "nbformat_minor": 2
}
