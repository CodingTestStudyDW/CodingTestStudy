{
 "cells": [
  {
   "cell_type": "markdown",
   "metadata": {},
   "source": [
    "## 프로그래머스(Lv.1/찾아라 프로그래밍 마에스터) : 폰켓몬 / [문제 링크](https://programmers.co.kr/learn/courses/30/lessons/1845)"
   ]
  },
  {
   "cell_type": "code",
   "execution_count": null,
   "metadata": {},
   "outputs": [],
   "source": [
    "def solution(nums):\n",
    "    returns = len(nums)//2\n",
    "    if len(set(nums)) < returns:\n",
    "        return len(set(nums))\n",
    "        \n",
    "    return returns\n",
    "\n",
    "def solution(ls):\n",
    "    return min(len(ls)/2, len(set(ls)))"
   ]
  }
 ],
 "metadata": {
  "language_info": {
   "name": "python"
  },
  "orig_nbformat": 4
 },
 "nbformat": 4,
 "nbformat_minor": 2
}
