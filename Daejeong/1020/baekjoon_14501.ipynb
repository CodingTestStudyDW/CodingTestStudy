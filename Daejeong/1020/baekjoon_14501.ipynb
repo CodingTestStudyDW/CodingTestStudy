{
 "cells": [
  {
   "cell_type": "markdown",
   "metadata": {},
   "source": [
    "## 백준(14501번/실버3/브루트포스 알고리즘) : 퇴사 / [문제 링크](https://www.acmicpc.net/problem/14501)"
   ]
  },
  {
   "cell_type": "code",
   "execution_count": 18,
   "metadata": {},
   "outputs": [
    {
     "name": "stdout",
     "output_type": "stream",
     "text": [
      "10\n",
      "10\n",
      "20\n",
      "30\n",
      "40\n",
      "40\n",
      "[40, 30, 20, 10, 10, 0]\n"
     ]
    }
   ],
   "source": [
    "### 여기부터 값 받는 부분\n",
    "N = int(input())\n",
    "T = []\n",
    "P = []\n",
    "answer = [0] * (N+1)\n",
    "\n",
    "for _ in range(N):\n",
    "    t_, p_ = input().split()\n",
    "    T.append(int(t_))\n",
    "    P.append(int(p_))\n",
    "### 여기까지 값 받아오는 부분\n",
    "\n",
    "### 리스트의 뒤에서 부터 값을 연산 N-1 부터 0까지 값이 1씩 작아짐\n",
    "for i in range(N-1, -1, -1):\n",
    "    ### 만약 T[i] + i가 N 보다 크면 상담을 받을수있는 날짜가 없기때문에 그냥 이전값과 같음 반복문이 N-1 -> 0까지 반복이라 이전값은 answer[i+1]임\n",
    "    if T[i] + i > N:\n",
    "        answer[i] = answer[i + 1]\n",
    "    ### T[i] + i가 N 보다 작으면\n",
    "    else:\n",
    "        ### answer[i]에 이전값 or 현재 받은 일을 통해 추가된 요금을 더한값 중 가장 큰 값을 넣어줌\n",
    "        answer[i] = max(P[i] + answer[i + T[i]], answer[i + 1])\n",
    "\n",
    "### 그러면 answer의 0번째 인덱스에 가장 큰 값이 들어와있음\n",
    "print(answer[0])"
   ]
  }
 ],
 "metadata": {
  "interpreter": {
   "hash": "b3ba2566441a7c06988d0923437866b63cedc61552a5af99d1f4fb67d367b25f"
  },
  "kernelspec": {
   "display_name": "Python 3.8.3 64-bit ('base': conda)",
   "name": "python3"
  },
  "language_info": {
   "codemirror_mode": {
    "name": "ipython",
    "version": 3
   },
   "file_extension": ".py",
   "mimetype": "text/x-python",
   "name": "python",
   "nbconvert_exporter": "python",
   "pygments_lexer": "ipython3",
   "version": "3.8.3"
  },
  "orig_nbformat": 4
 },
 "nbformat": 4,
 "nbformat_minor": 2
}
