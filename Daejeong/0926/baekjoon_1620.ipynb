{
 "cells": [
  {
   "cell_type": "markdown",
   "source": [
    "## 백준(1620번/실버4) : 나는야 포켓몬 마스터 이다솜 / [문제 링크](https://www.acmicpc.net/problem/1620)"
   ],
   "metadata": {}
  },
  {
   "cell_type": "code",
   "execution_count": 8,
   "source": [
    "# input()의 시간초과로 인해 sys.stdin.readline()활용\r\n",
    "import sys\r\n",
    "# 이건 그냥 뭔가 깔끔해보여서 다른사람 블로그에서 따옴\r\n",
    "input = sys.stdin.readline\r\n",
    "\r\n",
    "# N = 수록된 포켓몬 수, M = 문제 수\r\n",
    "N, M = map(int, input().split())\r\n",
    "\r\n",
    "# 포켓몬 이름을 담을 리스트, 포켓몬 인덱스를 담을 딕셔너리 생성\r\n",
    "poketmon_list = []\r\n",
    "poketmon_dic = {}\r\n",
    "\r\n",
    "# 포켓몬 입력 받고 포켓몬을 key로한 dictionary 생성\r\n",
    "for i in range(N):\r\n",
    "    # 입력 받고 리스트엔 이름, 딕셔너리엔 key = 이름, value = 번호\r\n",
    "    poketmon = input().rstrip()\r\n",
    "    poketmon_list.append(poketmon)\r\n",
    "    poketmon_dic[poketmon] = i + 1\r\n",
    "\r\n",
    "# 풀어야할 문제 수 만큼 반복\r\n",
    "for j in range(M):\r\n",
    "    question = input().rstrip()\r\n",
    "    # 입력값이 숫자면, 리스트에서 해당 인덱스 포켓몬 이름을 출력\r\n",
    "    if question.isdigit():\r\n",
    "        print(poketmon_list[int(question) - 1])\r\n",
    "    # 입력값이 문자열이면, 딕셔너리에서 입력값을 key로하는 value출력\r\n",
    "    else:\r\n",
    "        print(poketmon_dic[question])\r\n",
    "    \r\n"
   ],
   "outputs": [],
   "metadata": {}
  }
 ],
 "metadata": {
  "orig_nbformat": 4,
  "language_info": {
   "name": "python",
   "version": "3.8.5",
   "mimetype": "text/x-python",
   "codemirror_mode": {
    "name": "ipython",
    "version": 3
   },
   "pygments_lexer": "ipython3",
   "nbconvert_exporter": "python",
   "file_extension": ".py"
  },
  "kernelspec": {
   "name": "python3",
   "display_name": "Python 3.8.5 64-bit ('base': conda)"
  },
  "interpreter": {
   "hash": "b3ba2566441a7c06988d0923437866b63cedc61552a5af99d1f4fb67d367b25f"
  }
 },
 "nbformat": 4,
 "nbformat_minor": 2
}