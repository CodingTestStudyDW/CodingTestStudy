{
 "cells": [
  {
   "cell_type": "markdown",
   "source": [
    "## 백준(4150번/실버5) : 피보나치 수 / [문제 링크](https://www.acmicpc.net/problem/4150)"
   ],
   "metadata": {}
  },
  {
   "cell_type": "code",
   "execution_count": 1,
   "source": [
    "N = int(input())\r\n",
    "\r\n",
    "if N <= 2:\r\n",
    "    # n이 1, 2일때는 어차피 1 그럼 3이상부터 연산하면 됨\r\n",
    "    print(1)\r\n",
    "else:\r\n",
    "    # num_n_1 = n-1, num_n_2 = n-2, num_result = n-1 + n-2\r\n",
    "    num_n_1 = 1\r\n",
    "    num_n_2 = 1\r\n",
    "    num_result = 0\r\n",
    "\r\n",
    "    for i in range(N-2):\r\n",
    "        # 현재 값 구한후\r\n",
    "        num_result = num_n_2 + num_n_1\r\n",
    "        # 한칸씩 값을 밀어줌\r\n",
    "        num_n_2 = num_n_1\r\n",
    "        num_n_1 = num_result\r\n",
    "\r\n",
    "    print(num_result)\r\n"
   ],
   "outputs": [
    {
     "output_type": "stream",
     "name": "stdout",
     "text": [
      "1\n"
     ]
    }
   ],
   "metadata": {}
  }
 ],
 "metadata": {
  "orig_nbformat": 4,
  "language_info": {
   "name": "python",
   "version": "3.8.5",
   "mimetype": "text/x-python",
   "codemirror_mode": {
    "name": "ipython",
    "version": 3
   },
   "pygments_lexer": "ipython3",
   "nbconvert_exporter": "python",
   "file_extension": ".py"
  },
  "kernelspec": {
   "name": "python3",
   "display_name": "Python 3.8.5 64-bit ('base': conda)"
  },
  "interpreter": {
   "hash": "b3ba2566441a7c06988d0923437866b63cedc61552a5af99d1f4fb67d367b25f"
  }
 },
 "nbformat": 4,
 "nbformat_minor": 2
}