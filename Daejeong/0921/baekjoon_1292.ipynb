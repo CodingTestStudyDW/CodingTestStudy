{
 "cells": [
  {
   "cell_type": "markdown",
   "source": [
    "## 백준(1292번/실버5) : 쉽게 푸는 문제 / [문제 링크](https://www.acmicpc.net/problem/1292)"
   ],
   "metadata": {}
  },
  {
   "cell_type": "code",
   "execution_count": 20,
   "source": [
    "# 시작, 끝 영역을 반환받음\r\n",
    "# 1 <= 시작 < 끝 <= 1000 의 조건을 만족함\r\n",
    "start, end = map(int, input().split())\r\n",
    "\r\n",
    "# 수열을 담을 리스트를 만듦\r\n",
    "num_list = []\r\n",
    "# 1부터 반복할 변수 생성\r\n",
    "i = 1\r\n",
    "while True:\r\n",
    "    # 수열을 만들기위해 i 만큼 반복하는 반복문 생성\r\n",
    "    # 1 = 1회, 2 = 2회, 3 = 3회 ...\r\n",
    "    for _ in range(i):\r\n",
    "        num_list.append(i)\r\n",
    "\r\n",
    "    # 수열의 길이가 end보다 더 클 필요가 없음\r\n",
    "    if len(num_list) > end:\r\n",
    "        # start -> end 까지 총합을 출력하고 break\r\n",
    "        print(sum(num_list[start-1:end]))\r\n",
    "        break\r\n",
    "    \r\n",
    "    # i를 1씩 증가시키면서 반복문이 정상적으로 돌아가도록 함\r\n",
    "    i += 1\r\n",
    "\r\n",
    "\r\n",
    "# 조건상 1 ~ 1000까지만 하면되지만 테스트해보니 1만까지는 바로 결과가 출력됨\r\n",
    "# 10만 약 20초"
   ],
   "outputs": [
    {
     "output_type": "stream",
     "name": "stdout",
     "text": [
      "942820\n"
     ]
    }
   ],
   "metadata": {}
  }
 ],
 "metadata": {
  "orig_nbformat": 4,
  "language_info": {
   "name": "python",
   "version": "3.9.6",
   "mimetype": "text/x-python",
   "codemirror_mode": {
    "name": "ipython",
    "version": 3
   },
   "pygments_lexer": "ipython3",
   "nbconvert_exporter": "python",
   "file_extension": ".py"
  },
  "kernelspec": {
   "name": "python3",
   "display_name": "Python 3.9.6 64-bit ('mediapipe': conda)"
  },
  "interpreter": {
   "hash": "e926dedd3893cf74b3e103acfdc8d694f57c26b076179fc8471283cc8ee904b5"
  }
 },
 "nbformat": 4,
 "nbformat_minor": 2
}