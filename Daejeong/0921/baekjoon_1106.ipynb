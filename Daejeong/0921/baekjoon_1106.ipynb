{
 "cells": [
  {
   "cell_type": "markdown",
   "source": [
    "## 백준(1106번/실버2) : 호텔 / [문제 링크](https://www.acmicpc.net/problem/1106)"
   ],
   "metadata": {}
  },
  {
   "cell_type": "code",
   "execution_count": 4,
   "source": [
    "customers, city = map(int, input().split())\r\n",
    "prise_and_customer = []\r\n",
    "total_prise_list = []\r\n",
    "\r\n",
    "for _ in range(city):\r\n",
    "    prise_and_customer.append(list(map(int, input().split())))\r\n",
    "\r\n"
   ],
   "outputs": [
    {
     "output_type": "stream",
     "name": "stdout",
     "text": [
      "[[2, 3], [3, 4]]\n"
     ]
    }
   ],
   "metadata": {}
  }
 ],
 "metadata": {
  "orig_nbformat": 4,
  "language_info": {
   "name": "python",
   "version": "3.8.3",
   "mimetype": "text/x-python",
   "codemirror_mode": {
    "name": "ipython",
    "version": 3
   },
   "pygments_lexer": "ipython3",
   "nbconvert_exporter": "python",
   "file_extension": ".py"
  },
  "kernelspec": {
   "name": "python3",
   "display_name": "Python 3.8.3 64-bit ('base': conda)"
  },
  "interpreter": {
   "hash": "b3ba2566441a7c06988d0923437866b63cedc61552a5af99d1f4fb67d367b25f"
  }
 },
 "nbformat": 4,
 "nbformat_minor": 2
}