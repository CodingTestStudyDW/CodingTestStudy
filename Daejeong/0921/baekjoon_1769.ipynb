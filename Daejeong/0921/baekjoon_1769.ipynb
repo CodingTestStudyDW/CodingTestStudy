{
 "cells": [
  {
   "cell_type": "markdown",
   "source": [
    "## 백준(1769번/실버5) : 3의 배수 / [문제 링크](https://www.acmicpc.net/problem/1769)"
   ],
   "metadata": {}
  },
  {
   "cell_type": "code",
   "execution_count": 2,
   "source": [
    "# 나도 재귀함수라는거 한번 써봄! 원래 while문 썼는데 한번 바꿔봄~!\r\n",
    "def func(string, count):\r\n",
    "    # 일단 문자열이 2자리수 이상이면\r\n",
    "    if len(string) > 1: \r\n",
    "        count += 1\r\n",
    "        t = 0\r\n",
    "        # 숫자 다 더해서 또 func에 넣고\r\n",
    "        for i in string: \r\n",
    "            t += int(i) \r\n",
    "            func(str(t), count) \r\n",
    "    # 문자열이 1자리수면\r\n",
    "    else:\r\n",
    "        # 그 숫자 3으로 나눠서 나눠떨어지는지 확인\r\n",
    "        if int(string) % 3 == 0: \r\n",
    "            print(count) \r\n",
    "            print(\"YES\") \r\n",
    "        # 3으로 안나눠떨어지면 NO!\r\n",
    "        else: \r\n",
    "            print(count) \r\n",
    "            print(\"NO\") \r\n",
    "            \r\n",
    "# 맨처음에 숫자 다 더하려면 문자열로 받는게 편함\r\n",
    "num = input()\r\n",
    "count = 0\r\n",
    "\r\n",
    "# 함수에 집어넣고\r\n",
    "func(num, count)"
   ],
   "outputs": [
    {
     "output_type": "stream",
     "name": "stdout",
     "text": [
      "5\n",
      "YES\n"
     ]
    }
   ],
   "metadata": {}
  }
 ],
 "metadata": {
  "orig_nbformat": 4,
  "language_info": {
   "name": "python",
   "version": "3.8.5",
   "mimetype": "text/x-python",
   "codemirror_mode": {
    "name": "ipython",
    "version": 3
   },
   "pygments_lexer": "ipython3",
   "nbconvert_exporter": "python",
   "file_extension": ".py"
  },
  "kernelspec": {
   "name": "python3",
   "display_name": "Python 3.8.5 64-bit ('base': conda)"
  },
  "interpreter": {
   "hash": "b3ba2566441a7c06988d0923437866b63cedc61552a5af99d1f4fb67d367b25f"
  }
 },
 "nbformat": 4,
 "nbformat_minor": 2
}