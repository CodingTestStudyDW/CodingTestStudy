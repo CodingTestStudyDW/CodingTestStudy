{
 "cells": [
  {
   "cell_type": "markdown",
   "metadata": {},
   "source": [
    "## 백준(2251/실버1) : 물통 / [문제 링크](https://www.acmicpc.net/problem/2251)"
   ]
  },
  {
   "cell_type": "code",
   "execution_count": null,
   "metadata": {},
   "outputs": [],
   "source": [
    "# 물을 옮길 수 있는 경우의 수는 총 6가지이다.(x->y, x-z, y->x, y->z, z->x, z->y)\n",
    "\n",
    "from collections import deque\n",
    "\n",
    "a, b, c = map(int, input().split())\n",
    "\n",
    "q = deque()\n",
    "q.append((0, 0))\n",
    "\n",
    "# 방문 여부 저장\n",
    "visited = [[False] * (b + 1) for _ in range(a + 1)]\n",
    "visited[0][0] = True\n",
    "\n",
    "answer = []\n",
    "\n",
    "def pour(x, y):\n",
    "    if not visited[x][y]:\n",
    "        visited[x][y] = True\n",
    "        q.append((x, y))\n",
    "        \n",
    "def bfs():\n",
    "    while q:\n",
    "        x, y = q.popleft()\n",
    "        z = c - x - y\n",
    "        \n",
    "        if x == 0:\n",
    "            answer.append(z)\n",
    "            \n",
    "        water = min(x, b - y)\n",
    "        pour(x - water, y + water)\n",
    "\n",
    "        water = min(x, c - z)\n",
    "        pour(x - water, y)\n",
    "        \n",
    "        water = min(y, c - z)\n",
    "        pour(x, y - water)\n",
    "\n",
    "        water = min(y, a - x)\n",
    "        pour(x + water, y - water)\n",
    "        \n",
    "        water = min(z, a - x)\n",
    "        pour(x + water, y)\n",
    "\n",
    "        water = min(z, b - y)\n",
    "        pour(x, y + water)\n",
    "        \n",
    "bfs()\n",
    "print(*sorted(answer))"
   ]
  }
 ],
 "metadata": {
  "interpreter": {
   "hash": "63fd5069d213b44bf678585dea6b12cceca9941eaf7f819626cde1f2670de90d"
  },
  "kernelspec": {
   "display_name": "Python 3.9.5 64-bit",
   "language": "python",
   "name": "python3"
  },
  "language_info": {
   "name": "python",
   "version": "3.9.5"
  },
  "orig_nbformat": 4
 },
 "nbformat": 4,
 "nbformat_minor": 2
}
