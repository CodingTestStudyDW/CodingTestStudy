{
 "cells": [
  {
   "cell_type": "markdown",
   "metadata": {},
   "source": [
    "## 백준(1931/실버2) : 회의실 배정 / [문제 링크](https://www.acmicpc.net/problem/1931)"
   ]
  },
  {
   "cell_type": "code",
   "execution_count": null,
   "metadata": {},
   "outputs": [],
   "source": [
    "import sys\n",
    "\n",
    "n = int(sys.stdin.readline())\n",
    "\n",
    "if n == 1:\n",
    "    print(1)\n",
    "else:\n",
    "    times = [list(map(int, sys.stdin.readline().split())) for _ in range(n)]\n",
    "    count = 1\n",
    "\n",
    "    times.sort(key=lambda x: (x[1], x[0]))\n",
    "\n",
    "    # 최초 end 시간 초기화\n",
    "    _, end = times[0]\n",
    "    for i in range(1, n):\n",
    "        n_start, n_end = times[i]\n",
    "\n",
    "        # n_start시간이 end보다 늦거나 같으면 \n",
    "        if end <= n_start:\n",
    "            # 회의실 사용하는것, end 값 변경 => 어차피 start는 바꿔봤자 안씀\n",
    "            end = n_end\n",
    "            count += 1\n",
    "\n",
    "\n",
    "    print(count)"
   ]
  }
 ],
 "metadata": {
  "interpreter": {
   "hash": "63fd5069d213b44bf678585dea6b12cceca9941eaf7f819626cde1f2670de90d"
  },
  "kernelspec": {
   "display_name": "Python 3.9.5 64-bit",
   "language": "python",
   "name": "python3"
  },
  "language_info": {
   "codemirror_mode": {
    "name": "ipython",
    "version": 3
   },
   "file_extension": ".py",
   "mimetype": "text/x-python",
   "name": "python",
   "nbconvert_exporter": "python",
   "pygments_lexer": "ipython3",
   "version": "3.9.5"
  },
  "orig_nbformat": 4
 },
 "nbformat": 4,
 "nbformat_minor": 2
}
