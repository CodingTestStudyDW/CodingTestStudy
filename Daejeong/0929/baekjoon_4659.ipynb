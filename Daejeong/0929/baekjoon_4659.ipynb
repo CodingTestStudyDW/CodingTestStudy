{
 "cells": [
  {
   "cell_type": "markdown",
   "source": [
    "## 백준(4659번/실버5) : 비밀번호 발음하기 / [문제 링크](https://www.acmicpc.net/problem/4659)"
   ],
   "metadata": {}
  },
  {
   "cell_type": "code",
   "execution_count": 8,
   "source": [
    "condition_1 = ['a', 'e', 'i', 'o', 'u']\r\n",
    "condition_2 = ['ee', 'oo']\r\n",
    "\r\n",
    "while True:\r\n",
    "    password = input()\r\n",
    "    acceptable = True\r\n",
    "\r\n",
    "    # end를 입력하면 끝난다\r\n",
    "    if password == 'end':\r\n",
    "        break\r\n",
    "    else:\r\n",
    "        # 입력받은 값에 모음이 1개이상 포함되어야한다\r\n",
    "        for i in password:\r\n",
    "            if i not in condition_1:\r\n",
    "                acceptable = False\r\n",
    "            else:\r\n",
    "                acceptable = True\r\n",
    "                break\r\n",
    "\r\n",
    "        # 위 조건이 만족될경우\r\n",
    "        if acceptable:\r\n",
    "            idx_1 = 0\r\n",
    "            idx_2 = 0\r\n",
    "            # 모음 혹은 자음이 3개이상 연속으로 오지 않아야한다\r\n",
    "            for i in password:\r\n",
    "                if i in condition_1:\r\n",
    "                    idx_1 += 1\r\n",
    "                    idx_2 = 0\r\n",
    "                elif i not in condition_1:\r\n",
    "                    idx_2 += 1\r\n",
    "                    idx_1 = 0\r\n",
    "\r\n",
    "                if idx_1 == 3 or idx_2 == 3:\r\n",
    "                    acceptable = False\r\n",
    "                    break\r\n",
    "        # 위 조건이 만족할 경우\r\n",
    "        if acceptable:\r\n",
    "            for i in range(len(password)-1):            \r\n",
    "                # 같은 글자가 2번 연속 오면 안된다\r\n",
    "                if len(set(password[i:i+2])) == 1 and password[i:i+2] not in condition_2:\r\n",
    "                    acceptable = False\r\n",
    "                # 하지만 ee 와 oo는 허용한다\r\n",
    "                elif password[i:i+2] in condition_2:\r\n",
    "                    acceptable = True\r\n",
    "                    break\r\n",
    "        \r\n",
    "        if acceptable:\r\n",
    "            print(f'<{password}> is acceptable.')\r\n",
    "        else:\r\n",
    "            print(f'<{password}> is not acceptable.')"
   ],
   "outputs": [
    {
     "output_type": "stream",
     "name": "stdout",
     "text": [
      "<bontres> is not acceptable.\n",
      "<a> is acceptable.\n",
      "<tv> is not acceptable.\n",
      "<bontres> is not acceptable.\n",
      "<ptoui> is not acceptable.\n",
      "<zoggax> is not acceptable.\n",
      "<wiinq> is not acceptable.\n",
      "<eep> is acceptable.\n",
      "<houctuh> is acceptable.\n"
     ]
    }
   ],
   "metadata": {}
  }
 ],
 "metadata": {
  "orig_nbformat": 4,
  "language_info": {
   "name": "python",
   "version": "3.8.5",
   "mimetype": "text/x-python",
   "codemirror_mode": {
    "name": "ipython",
    "version": 3
   },
   "pygments_lexer": "ipython3",
   "nbconvert_exporter": "python",
   "file_extension": ".py"
  },
  "kernelspec": {
   "name": "python3",
   "display_name": "Python 3.8.5 64-bit ('base': conda)"
  },
  "interpreter": {
   "hash": "b3ba2566441a7c06988d0923437866b63cedc61552a5af99d1f4fb67d367b25f"
  }
 },
 "nbformat": 4,
 "nbformat_minor": 2
}