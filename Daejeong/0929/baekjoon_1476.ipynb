{
 "cells": [
  {
   "cell_type": "markdown",
   "source": [
    "## 백준(1476번/실버5) : 날짜 계산 / [문제 링크](https://www.acmicpc.net/problem/1476)"
   ],
   "metadata": {}
  },
  {
   "cell_type": "code",
   "execution_count": 3,
   "source": [
    "E, S, M = map(int, input().split())\r\n",
    "\r\n",
    "year, earth, sun, moon = 1, 1, 1, 1\r\n",
    "while True:\r\n",
    "    if E == earth and S == sun and M == moon:\r\n",
    "        print(year)\r\n",
    "        break\r\n",
    "\r\n",
    "    earth += 1\r\n",
    "    sun += 1\r\n",
    "    moon += 1\r\n",
    "    year += 1\r\n",
    "\r\n",
    "    if earth == 16:\r\n",
    "        earth -= 15\r\n",
    "    elif sun == 29:\r\n",
    "        sun -= 28\r\n",
    "    elif moon == 20:\r\n",
    "        moon -= 19\r\n",
    "\r\n",
    "# 이러면 답은 나오는데 너무 오래걸려"
   ],
   "outputs": [
    {
     "output_type": "error",
     "ename": "KeyboardInterrupt",
     "evalue": "",
     "traceback": [
      "\u001b[1;31m---------------------------------------------------------------------------\u001b[0m",
      "\u001b[1;31mKeyboardInterrupt\u001b[0m                         Traceback (most recent call last)",
      "\u001b[1;32m<ipython-input-3-5adddcd6c9ac>\u001b[0m in \u001b[0;36m<module>\u001b[1;34m\u001b[0m\n\u001b[0;32m     10\u001b[0m     \u001b[0msun\u001b[0m \u001b[1;33m+=\u001b[0m \u001b[1;36m1\u001b[0m\u001b[1;33m\u001b[0m\u001b[1;33m\u001b[0m\u001b[0m\n\u001b[0;32m     11\u001b[0m     \u001b[0mmoon\u001b[0m \u001b[1;33m+=\u001b[0m \u001b[1;36m1\u001b[0m\u001b[1;33m\u001b[0m\u001b[1;33m\u001b[0m\u001b[0m\n\u001b[1;32m---> 12\u001b[1;33m     \u001b[0myear\u001b[0m \u001b[1;33m+=\u001b[0m \u001b[1;36m1\u001b[0m\u001b[1;33m\u001b[0m\u001b[1;33m\u001b[0m\u001b[0m\n\u001b[0m\u001b[0;32m     13\u001b[0m \u001b[1;33m\u001b[0m\u001b[0m\n\u001b[0;32m     14\u001b[0m     \u001b[1;32mif\u001b[0m \u001b[0mearth\u001b[0m \u001b[1;33m==\u001b[0m \u001b[1;36m16\u001b[0m\u001b[1;33m:\u001b[0m\u001b[1;33m\u001b[0m\u001b[1;33m\u001b[0m\u001b[0m\n",
      "\u001b[1;31mKeyboardInterrupt\u001b[0m: "
     ]
    }
   ],
   "metadata": {}
  },
  {
   "cell_type": "code",
   "execution_count": 4,
   "source": [
    "E, S, M = map(int, input().split())\r\n",
    "\r\n",
    "year = 1\r\n",
    "while True:\r\n",
    "    if (year-E) % 15 == 0 and (year-S) % 28 == 0 and (year-M) % 19 == 0:\r\n",
    "        print(year)\r\n",
    "        break\r\n",
    "    year += 1\r\n",
    "\r\n",
    "# 도저히 모르겠어서 찾아봤는데 이게 중국인의 나머지 정리라고함..\r\n",
    "# 난 그냥 한국사람 할래"
   ],
   "outputs": [
    {
     "output_type": "stream",
     "name": "stdout",
     "text": [
      "5266\n"
     ]
    }
   ],
   "metadata": {}
  }
 ],
 "metadata": {
  "orig_nbformat": 4,
  "language_info": {
   "name": "python",
   "version": "3.8.5",
   "mimetype": "text/x-python",
   "codemirror_mode": {
    "name": "ipython",
    "version": 3
   },
   "pygments_lexer": "ipython3",
   "nbconvert_exporter": "python",
   "file_extension": ".py"
  },
  "kernelspec": {
   "name": "python3",
   "display_name": "Python 3.8.5 64-bit ('base': conda)"
  },
  "interpreter": {
   "hash": "b3ba2566441a7c06988d0923437866b63cedc61552a5af99d1f4fb67d367b25f"
  }
 },
 "nbformat": 4,
 "nbformat_minor": 2
}