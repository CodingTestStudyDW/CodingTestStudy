{
 "cells": [
  {
   "cell_type": "markdown",
   "metadata": {},
   "source": [
    "## 백준(2667/실버1) : 단지번호 붙이기 / [문제 링크](https://www.acmicpc.net/problem/2667)"
   ]
  },
  {
   "cell_type": "code",
   "execution_count": 18,
   "metadata": {},
   "outputs": [
    {
     "name": "stdout",
     "output_type": "stream",
     "text": [
      "3\n",
      "1\n",
      "1\n",
      "3\n"
     ]
    }
   ],
   "source": [
    "dx = [0, -1, 0, 1]\n",
    "dy = [1, 0, -1, 0]\n",
    "\n",
    "n = int(input())\n",
    "\n",
    "graph = [input() for _ in range(n)]\n",
    "visited = [[False]*n for _ in range(n)]\n",
    "counts = []\n",
    "\n",
    "def dfs(graph, visited, x, y):\n",
    "    global count\n",
    "    count += 1\n",
    "    visited[x][y] = True\n",
    "\n",
    "    for i in range(4):\n",
    "        nx = x + dx[i]\n",
    "        ny = y + dy[i]\n",
    "\n",
    "        if 0 <= nx <= n-1 and 0 <= ny <= n-1:\n",
    "            if graph[nx][ny] == '1' and visited[nx][ny] == False:\n",
    "                \n",
    "                dfs(graph, visited, nx, ny)\n",
    "\n",
    "for i in range(n):\n",
    "    for j in range(n):\n",
    "        count = 0\n",
    "        if graph[i][j] == '1' and visited[i][j] == False:\n",
    "            dfs(graph, visited, i, j)\n",
    "            counts.append(count)\n",
    "\n",
    "print(len(counts))\n",
    "for count in sorted(counts):\n",
    "    print(count)\n"
   ]
  }
 ],
 "metadata": {
  "interpreter": {
   "hash": "b3ba2566441a7c06988d0923437866b63cedc61552a5af99d1f4fb67d367b25f"
  },
  "kernelspec": {
   "display_name": "Python 3.8.3 64-bit ('base': conda)",
   "name": "python3"
  },
  "language_info": {
   "codemirror_mode": {
    "name": "ipython",
    "version": 3
   },
   "file_extension": ".py",
   "mimetype": "text/x-python",
   "name": "python",
   "nbconvert_exporter": "python",
   "pygments_lexer": "ipython3",
   "version": "3.8.3"
  },
  "orig_nbformat": 4
 },
 "nbformat": 4,
 "nbformat_minor": 2
}
