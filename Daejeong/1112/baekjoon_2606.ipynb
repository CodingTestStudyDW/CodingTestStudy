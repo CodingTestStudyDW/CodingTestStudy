{
 "cells": [
  {
   "cell_type": "markdown",
   "metadata": {},
   "source": [
    "## 백준(2606번/실버3) : 바이러스 / [문제 링크](https://www.acmicpc.net/problem/2606)"
   ]
  },
  {
   "cell_type": "code",
   "execution_count": 21,
   "metadata": {},
   "outputs": [
    {
     "name": "stdout",
     "output_type": "stream",
     "text": [
      "4\n"
     ]
    }
   ],
   "source": [
    "computers = int(input())\n",
    "case = int(input())\n",
    "\n",
    "dic = {}\n",
    "visited = []\n",
    "\n",
    "def dfs(start, dic):\n",
    "    for i in dic[start]:\n",
    "        if i not in visited:\n",
    "            visited.append(i)\n",
    "            dfs(i, dic)\n",
    "\n",
    "for i in range(computers):\n",
    "    dic[i+1] = set()\n",
    "    \n",
    "for j in range(case):\n",
    "    a, b = map(int, input().split())\n",
    "    dic[a].add(b)\n",
    "    dic[b].add(a)\n",
    "\n",
    "dfs(1, dic)\n",
    "print(len(visited)-1)\n"
   ]
  }
 ],
 "metadata": {
  "interpreter": {
   "hash": "b3ba2566441a7c06988d0923437866b63cedc61552a5af99d1f4fb67d367b25f"
  },
  "kernelspec": {
   "display_name": "Python 3.8.3 64-bit ('base': conda)",
   "name": "python3"
  },
  "language_info": {
   "codemirror_mode": {
    "name": "ipython",
    "version": 3
   },
   "file_extension": ".py",
   "mimetype": "text/x-python",
   "name": "python",
   "nbconvert_exporter": "python",
   "pygments_lexer": "ipython3",
   "version": "3.8.3"
  },
  "orig_nbformat": 4
 },
 "nbformat": 4,
 "nbformat_minor": 2
}
