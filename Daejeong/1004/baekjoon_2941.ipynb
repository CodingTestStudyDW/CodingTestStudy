{
 "cells": [
  {
   "cell_type": "markdown",
   "source": [
    "## 백준(2941번/실버5/구현) : 크로아티아 알파벳 / [문제 링크](https://www.acmicpc.net/problem/2941)"
   ],
   "metadata": {}
  },
  {
   "cell_type": "code",
   "execution_count": 14,
   "source": [
    "word = input()\r\n",
    "\r\n",
    "word_length = len(word)\r\n",
    "croatia_word_list = ['c=', 'c-', 'd-', 'dz=', 'lj', 'nj', 's=', 'z=']\r\n",
    "croatia_word_count = 0\r\n",
    "\r\n",
    "for croatia_word in croatia_word_list:\r\n",
    "    # dz= 와 z= 가 겹치기 때문에, dz= 가 있을때, z=가 중복 count 될수있어서 z=에서 dz= 카운트 만큼 빼줌\r\n",
    "    if croatia_word == 'z=' and 'dz=' in word:\r\n",
    "        croatia_word_count += word.count(croatia_word) - word.count('dz=')\r\n",
    "    else:\r\n",
    "        croatia_word_count += word.count(croatia_word)\r\n",
    "\r\n",
    "# dz= 의 경우 다른 단어들과 다르게 3글자이기 때문에, 글자 카운트가 1개 더 빠져야함 따라서 count만큼 추가해줌\r\n",
    "if 'dz=' in word:\r\n",
    "    croatia_word_count += word.count('dz=')\r\n",
    "\r\n",
    "print(word_length - croatia_word_count)"
   ],
   "outputs": [
    {
     "output_type": "stream",
     "name": "stdout",
     "text": [
      "3\n"
     ]
    }
   ],
   "metadata": {}
  }
 ],
 "metadata": {
  "orig_nbformat": 4,
  "language_info": {
   "name": "python",
   "version": "3.9.6",
   "mimetype": "text/x-python",
   "codemirror_mode": {
    "name": "ipython",
    "version": 3
   },
   "pygments_lexer": "ipython3",
   "nbconvert_exporter": "python",
   "file_extension": ".py"
  },
  "kernelspec": {
   "name": "python3",
   "display_name": "Python 3.9.6 64-bit ('mediapipe': conda)"
  },
  "interpreter": {
   "hash": "e926dedd3893cf74b3e103acfdc8d694f57c26b076179fc8471283cc8ee904b5"
  }
 },
 "nbformat": 4,
 "nbformat_minor": 2
}