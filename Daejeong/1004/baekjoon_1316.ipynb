{
 "cells": [
  {
   "cell_type": "markdown",
   "source": [
    "## 백준(1316번/실버5/구현) : 단어 그룹 체커 / [문제 링크](https://www.acmicpc.net/problem/1316)"
   ],
   "metadata": {}
  },
  {
   "cell_type": "code",
   "execution_count": 6,
   "source": [
    "case = int(input())\r\n",
    "\r\n",
    "count = 0\r\n",
    "for _ in range(case):\r\n",
    "    word = input()\r\n",
    "    alphabet_list = []\r\n",
    "    group = True\r\n",
    "\r\n",
    "    for alphabet in word:\r\n",
    "    # 만약 alphabet list에 word가 있다면?\r\n",
    "        if alphabet in alphabet_list:\r\n",
    "            # 해당 word가 alphabet list의 마지막 인덱스인지 확인\r\n",
    "            if alphabet == alphabet_list[-1]:\r\n",
    "                # 맞으면 계속 진행\r\n",
    "                continue\r\n",
    "            # 만약 마지막 인덱스가 아니라면 단어가 떨어져있는 상태로 다시 나온것이기 때문에 얄짤없이 break\r\n",
    "            else:\r\n",
    "                group = False\r\n",
    "                break\r\n",
    "        else:\r\n",
    "            alphabet_list.append(alphabet)\r\n",
    "\r\n",
    "        \r\n",
    "    if group:\r\n",
    "        count += 1\r\n",
    "\r\n",
    "print(count)\r\n"
   ],
   "outputs": [
    {
     "output_type": "stream",
     "name": "stdout",
     "text": [
      "3\n"
     ]
    }
   ],
   "metadata": {}
  },
  {
   "cell_type": "code",
   "execution_count": null,
   "source": [],
   "outputs": [],
   "metadata": {}
  }
 ],
 "metadata": {
  "orig_nbformat": 4,
  "language_info": {
   "name": "python",
   "version": "3.9.6",
   "mimetype": "text/x-python",
   "codemirror_mode": {
    "name": "ipython",
    "version": 3
   },
   "pygments_lexer": "ipython3",
   "nbconvert_exporter": "python",
   "file_extension": ".py"
  },
  "kernelspec": {
   "name": "python3",
   "display_name": "Python 3.9.6 64-bit ('mediapipe': conda)"
  },
  "interpreter": {
   "hash": "e926dedd3893cf74b3e103acfdc8d694f57c26b076179fc8471283cc8ee904b5"
  }
 },
 "nbformat": 4,
 "nbformat_minor": 2
}