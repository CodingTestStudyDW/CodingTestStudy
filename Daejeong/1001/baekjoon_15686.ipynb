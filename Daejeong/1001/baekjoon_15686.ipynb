{
 "cells": [
  {
   "cell_type": "markdown",
   "source": [
    "## 백준(15686번/골드5/구현) : 치킨 배달 / [문제 링크](https://www.acmicpc.net/problem/15686)"
   ],
   "metadata": {}
  },
  {
   "cell_type": "code",
   "execution_count": 16,
   "source": [
    "from itertools import combinations\r\n",
    "\r\n",
    "N, M = map(int, input().split())\r\n",
    "graph = [list(map(int, input().split())) for _ in range(N)]\r\n",
    "\r\n",
    "chicken_house_list = []\r\n",
    "house_list = []\r\n",
    "\r\n",
    "# 일단 가정집과 치킨집을 모두 분류\r\n",
    "for x in range(N):\r\n",
    "    for y in range(N):\r\n",
    "        if graph[x][y] == 1:\r\n",
    "            house_list.append([x, y])\r\n",
    "        elif graph[x][y] == 2:\r\n",
    "            chicken_house_list.append([x, y])\r\n",
    "\r\n",
    "result = float('inf')\r\n",
    "\r\n",
    "# 치킨집과 모든 가정집 사이의 길이를 모두 측정\r\n",
    "for chicken_house in combinations(chicken_house_list, M):\r\n",
    "    chicken_length = 0\r\n",
    "    for house in house_list:\r\n",
    "        chicken_length += min([abs(house[0]-i[0]) + abs(house[1]-i[1]) for i in chicken_house])\r\n",
    "\r\n",
    "        if result <= chicken_length:\r\n",
    "            break\r\n",
    "    if chicken_length <= result:\r\n",
    "        result = chicken_length\r\n",
    "\r\n",
    "print(result)"
   ],
   "outputs": [
    {
     "output_type": "stream",
     "name": "stdout",
     "text": [
      "5\n"
     ]
    }
   ],
   "metadata": {}
  }
 ],
 "metadata": {
  "orig_nbformat": 4,
  "language_info": {
   "name": "python",
   "version": "3.9.5",
   "mimetype": "text/x-python",
   "codemirror_mode": {
    "name": "ipython",
    "version": 3
   },
   "pygments_lexer": "ipython3",
   "nbconvert_exporter": "python",
   "file_extension": ".py"
  },
  "kernelspec": {
   "name": "python3",
   "display_name": "Python 3.9.5 64-bit"
  },
  "interpreter": {
   "hash": "63fd5069d213b44bf678585dea6b12cceca9941eaf7f819626cde1f2670de90d"
  }
 },
 "nbformat": 4,
 "nbformat_minor": 2
}