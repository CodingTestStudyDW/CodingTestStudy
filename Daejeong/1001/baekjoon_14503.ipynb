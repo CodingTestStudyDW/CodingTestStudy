{
 "cells": [
  {
   "cell_type": "markdown",
   "source": [
    "## 백준(14503번/골드5/구현) : 로봇 청소기 / [문제 링크](https://www.acmicpc.net/problem/14503)"
   ],
   "metadata": {}
  },
  {
   "cell_type": "code",
   "execution_count": 14,
   "source": [
    "# 방향을 바꿔주는 함수\r\n",
    "def change_dir(dir):\r\n",
    "    if dir == 0:\r\n",
    "        return 3\r\n",
    "    elif dir == 1:\r\n",
    "        return 0\r\n",
    "    elif dir == 2:\r\n",
    "        return 1\r\n",
    "    elif dir == 3:\r\n",
    "        return 2\r\n",
    "\r\n",
    "# 입력 받아주는 부분\r\n",
    "N, M = map(int, input().split())\r\n",
    "r, c, d = map(int, input().split())\r\n",
    "graph = [list(map(int, input().split())) for _ in range(N)]\r\n",
    "\r\n",
    "# 북 동 남 서\r\n",
    "d_x = [-1, 0, 1, 0]\r\n",
    "d_y = [0, 1, 0, -1]\r\n",
    "\r\n",
    "count = 1\r\n",
    "x = r\r\n",
    "y = c\r\n",
    "graph[x][y] = 2\r\n",
    "\r\n",
    "while True:\r\n",
    "    # 계속 초기화를 통해서 값을 바꿔줘야하기 때문에 조금 비효율적이지만 변수 돌려막기를 위해 어쩔수없음\r\n",
    "    dir = d\r\n",
    "    for i in range(4):\r\n",
    "        # 2. 탐색해서 다음칸이 청소 할수없는곳이면 방향을 돌림 \r\n",
    "        # empty는 청소할곳이 있는지 없는지 판단하기 위함\r\n",
    "        empty = 0\r\n",
    "        dir = change_dir(dir)\r\n",
    "        next_x = x + d_x[dir]\r\n",
    "        next_y = y + d_y[dir]\r\n",
    "        \r\n",
    "        # 1. 탐색해서 다음칸이 청소해야하는 곳이면 진행 및 방향 안돌려도됨\r\n",
    "        if 0 <= next_x < N and 0 <= next_y < M and graph[next_x][next_y] == 0:\r\n",
    "            count += 1\r\n",
    "            x = next_x\r\n",
    "            y = next_y\r\n",
    "            graph[next_x][next_y] = 2\r\n",
    "            d = dir\r\n",
    "            empty = 1\r\n",
    "            break\r\n",
    "    # 만약 다 청소되어있거나 벽이라서 더 갈곳이 없으면 그대로 후진 \r\n",
    "    if empty == 0:\r\n",
    "        if d == 0:\r\n",
    "            x += 1\r\n",
    "        elif d == 1:\r\n",
    "            y -= 1\r\n",
    "        elif d == 2:\r\n",
    "            x -= 1\r\n",
    "        elif d == 3:\r\n",
    "            y += 1\r\n",
    "        # 근데 후진도 못한다? 그러면 작동 종료 후 몇칸 청소했는지 출력\r\n",
    "        if graph[x][y] == 1:\r\n",
    "            break\r\n",
    "\r\n",
    "print(count)"
   ],
   "outputs": [
    {
     "output_type": "error",
     "ename": "IndentationError",
     "evalue": "expected an indented block (<ipython-input-14-d661f42e9f62>, line 7)",
     "traceback": [
      "\u001b[1;36m  File \u001b[1;32m\"<ipython-input-14-d661f42e9f62>\"\u001b[1;36m, line \u001b[1;32m7\u001b[0m\n\u001b[1;33m    N, M = map(int, input().split())\u001b[0m\n\u001b[1;37m    ^\u001b[0m\n\u001b[1;31mIndentationError\u001b[0m\u001b[1;31m:\u001b[0m expected an indented block\n"
     ]
    }
   ],
   "metadata": {}
  },
  {
   "cell_type": "code",
   "execution_count": null,
   "source": [],
   "outputs": [],
   "metadata": {}
  }
 ],
 "metadata": {
  "orig_nbformat": 4,
  "language_info": {
   "name": "python",
   "version": "3.9.5",
   "mimetype": "text/x-python",
   "codemirror_mode": {
    "name": "ipython",
    "version": 3
   },
   "pygments_lexer": "ipython3",
   "nbconvert_exporter": "python",
   "file_extension": ".py"
  },
  "kernelspec": {
   "name": "python3",
   "display_name": "Python 3.9.5 64-bit"
  },
  "interpreter": {
   "hash": "63fd5069d213b44bf678585dea6b12cceca9941eaf7f819626cde1f2670de90d"
  }
 },
 "nbformat": 4,
 "nbformat_minor": 2
}