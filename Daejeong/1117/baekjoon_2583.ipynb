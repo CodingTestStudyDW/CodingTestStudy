{
 "cells": [
  {
   "cell_type": "markdown",
   "metadata": {},
   "source": [
    "## 백준(2583/실버1) : 영역 구하기 / [문제 링크](https://www.acmicpc.net/problem/2583)"
   ]
  },
  {
   "cell_type": "code",
   "execution_count": null,
   "metadata": {},
   "outputs": [],
   "source": [
    "import sys\n",
    "sys.setrecursionlimit(10**6)\n",
    "\n",
    "m, n, k = map(int, sys.stdin.readline().split())\n",
    "\n",
    "left = []\n",
    "right = []\n",
    "\n",
    "dx = [0, -1, 0, 1]\n",
    "dy = [1, 0, -1, 0]\n",
    "\n",
    "def dfs(x, y):\n",
    "    global size\n",
    "    visited[y][x] = True\n",
    "    size += 1\n",
    "\n",
    "    for i in range(4):\n",
    "        nx = x + dx[i]\n",
    "        ny = y + dy[i]\n",
    "\n",
    "        if 0 <= nx <= n-1 and 0 <= ny <= m-1:\n",
    "            if not visited[ny][nx]:\n",
    "                dfs(nx, ny)\n",
    "\n",
    "for _ in range(k):\n",
    "    # left_min_x, y 는 들어온 값 그대로 활용 가능\n",
    "    # right_max_x, y 는 들어온 값 그대로 활용 가능\n",
    "    left_min_x, left_min_y, right_max_x, right_max_y = map(int, sys.stdin.readline().split())\n",
    "    left.append([left_min_x, left_min_y])\n",
    "    right.append([right_max_x, right_max_y])\n",
    "\n",
    "# m = 열, n = 행\n",
    "visited = [[False]*n for _ in range(m)]\n",
    "# 빈칸 개수, 빈칸 넓이\n",
    "count, size = 0, 0\n",
    "size_list = []\n",
    "\n",
    "# 사각형 영역 표시\n",
    "for min, max in zip(left, right):\n",
    "    for i in range(min[0], max[0]):\n",
    "        for j in range(min[1], max[1]):\n",
    "            visited[j][i] = True\n",
    "\n",
    "for k in range(m): # 열\n",
    "    for l in range(n): # 행\n",
    "        if not visited[k][l]:\n",
    "            dfs(l, k)\n",
    "            count += 1\n",
    "            size_list.append(size)\n",
    "            size = 0\n",
    "\n",
    "print(count)\n",
    "print(*sorted(size_list))"
   ]
  }
 ],
 "metadata": {
  "interpreter": {
   "hash": "63fd5069d213b44bf678585dea6b12cceca9941eaf7f819626cde1f2670de90d"
  },
  "kernelspec": {
   "display_name": "Python 3.9.5 64-bit",
   "language": "python",
   "name": "python3"
  },
  "language_info": {
   "codemirror_mode": {
    "name": "ipython",
    "version": 3
   },
   "file_extension": ".py",
   "mimetype": "text/x-python",
   "name": "python",
   "nbconvert_exporter": "python",
   "pygments_lexer": "ipython3",
   "version": "3.9.5"
  },
  "orig_nbformat": 4
 },
 "nbformat": 4,
 "nbformat_minor": 2
}
