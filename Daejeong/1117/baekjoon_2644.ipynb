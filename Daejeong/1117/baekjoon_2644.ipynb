{
 "cells": [
  {
   "cell_type": "markdown",
   "metadata": {},
   "source": [
    "## 백준(2644/실버2) : 촌수계산 / [문제 링크](https://www.acmicpc.net/problem/2644)"
   ]
  },
  {
   "cell_type": "code",
   "execution_count": 14,
   "metadata": {},
   "outputs": [
    {
     "name": "stdout",
     "output_type": "stream",
     "text": [
      "-1\n"
     ]
    }
   ],
   "source": [
    "import sys\n",
    "sys.setrecursionlimit(10**6)\n",
    "\n",
    "n = int(input())\n",
    "a, b = map(int, input().split())\n",
    "m = int(input())\n",
    "visited = [False] * (n+1)\n",
    "answer = False\n",
    "\n",
    "def dfs(start, end, count):\n",
    "    global answer\n",
    "    visited[start] = True\n",
    "    for i in dic[start]:\n",
    "        if i == end:\n",
    "            answer = True\n",
    "            print(count)\n",
    "        if not visited[i]:\n",
    "            dfs(i, end, count+1)\n",
    "        \n",
    "dic = {}\n",
    "for i in range(n):\n",
    "    dic[i+1] = set()\n",
    "\n",
    "for _ in range(m):\n",
    "    x, y = map(int, input().split())\n",
    "    dic[x].add(y)\n",
    "    dic[y].add(x)\n",
    "\n",
    "count = 1\n",
    "dfs(a, b, count)\n",
    "if not answer:\n",
    "    print(-1)"
   ]
  },
  {
   "cell_type": "code",
   "execution_count": null,
   "metadata": {},
   "outputs": [],
   "source": [
    "from collections import deque\n",
    "\n",
    "def bfs(v, target):\n",
    "    count = 0\n",
    "    q = deque([[v, count]])\n",
    "    while q:\n",
    "        value = q.popleft()\n",
    "        v = value[0]\n",
    "        count = value[1]\n",
    "        if v == target:\n",
    "            return count\n",
    "            \n",
    "        if not visited[v]:\n",
    "            count += 1\n",
    "            visited[v] = True\n",
    "            for e in adj[v]:\n",
    "                if not visited[e]:\n",
    "                    q.append([e, count])\n",
    "    return -1\n",
    "\n",
    "n = int(input())\n",
    "q1, q2 = map(int, input().split())\n",
    "m = int(input())\n",
    "adj = [[] for _ in range(n+1)]\n",
    "visited = [False] * (n+1)\n",
    "\n",
    "for _ in range(m):\n",
    "    x, y = map(int, input().split())\n",
    "    adj[x].append(y)\n",
    "    adj[y].append(x)\n",
    "\n",
    "print(bfs(q1, q2))"
   ]
  }
 ],
 "metadata": {
  "interpreter": {
   "hash": "63fd5069d213b44bf678585dea6b12cceca9941eaf7f819626cde1f2670de90d"
  },
  "kernelspec": {
   "display_name": "Python 3.9.5 64-bit",
   "language": "python",
   "name": "python3"
  },
  "language_info": {
   "codemirror_mode": {
    "name": "ipython",
    "version": 3
   },
   "file_extension": ".py",
   "mimetype": "text/x-python",
   "name": "python",
   "nbconvert_exporter": "python",
   "pygments_lexer": "ipython3",
   "version": "3.9.5"
  },
  "orig_nbformat": 4
 },
 "nbformat": 4,
 "nbformat_minor": 2
}
