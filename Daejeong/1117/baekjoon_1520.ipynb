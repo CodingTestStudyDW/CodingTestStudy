{
 "cells": [
  {
   "cell_type": "markdown",
   "metadata": {},
   "source": [
    "## 백준(1520/골드4) : 내리막 길 / [문제 링크](https://www.acmicpc.net/problem/1520)"
   ]
  },
  {
   "cell_type": "code",
   "execution_count": 5,
   "metadata": {},
   "outputs": [
    {
     "name": "stdout",
     "output_type": "stream",
     "text": [
      "35\n",
      "30\n",
      "27\n",
      "24\n",
      "22\n",
      "15\n",
      "10\n",
      "45\n",
      "37\n",
      "32\n",
      "20\n",
      "17\n",
      "15\n",
      "10\n",
      "30\n",
      "25\n",
      "20\n",
      "17\n",
      "15\n",
      "10\n"
     ]
    }
   ],
   "source": [
    "import sys\n",
    "sys.setrecursionlimit(10**6)\n",
    "\n",
    "dx = [0, -1, 0, 1]\n",
    "dy = [1, 0, -1, 0]\n",
    "\n",
    "def dfs(x, y):\n",
    "    global count\n",
    "\n",
    "    for i in range(4):\n",
    "        nx = x + dx[i]\n",
    "        ny = y + dy[i]\n",
    "\n",
    "        if 0 <= nx <= n-1 and 0 <= ny <= m-1:\n",
    "            if graph[y][x] > graph[ny][nx]:\n",
    "                dfs(nx, ny)\n",
    "                if nx == n-1 and ny == m-1:\n",
    "                    count += 1\n",
    "\n",
    "m, n = map(int, input().split())\n",
    "graph = [[] for _ in range(m)]\n",
    "count = 0\n",
    "for i in range(m):\n",
    "    graph[i] = list(map(int, input().split()))\n",
    "\n",
    "dfs(0, 0)\n",
    "print(count)\n"
   ]
  }
 ],
 "metadata": {
  "interpreter": {
   "hash": "63fd5069d213b44bf678585dea6b12cceca9941eaf7f819626cde1f2670de90d"
  },
  "kernelspec": {
   "display_name": "Python 3.9.5 64-bit",
   "language": "python",
   "name": "python3"
  },
  "language_info": {
   "codemirror_mode": {
    "name": "ipython",
    "version": 3
   },
   "file_extension": ".py",
   "mimetype": "text/x-python",
   "name": "python",
   "nbconvert_exporter": "python",
   "pygments_lexer": "ipython3",
   "version": "3.9.5"
  },
  "orig_nbformat": 4
 },
 "nbformat": 4,
 "nbformat_minor": 2
}
