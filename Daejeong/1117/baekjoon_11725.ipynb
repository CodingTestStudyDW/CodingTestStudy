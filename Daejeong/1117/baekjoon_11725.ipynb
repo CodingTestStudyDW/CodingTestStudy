{
 "cells": [
  {
   "cell_type": "markdown",
   "metadata": {},
   "source": [
    "## 백준(11725/실버2) : 트리의 부모 찾기 / [문제 링크](https://www.acmicpc.net/problem/11725)"
   ]
  },
  {
   "cell_type": "code",
   "execution_count": null,
   "metadata": {},
   "outputs": [],
   "source": [
    "import sys\n",
    "sys.setrecursionlimit(10**6)\n",
    "\n",
    "n = int(input())\n",
    "\n",
    "def dfs(start, tree, parents):\n",
    "    for i in tree[start]:\n",
    "        if not parents[i]:\n",
    "            parents[i] = start\n",
    "            dfs(i, tree, parents)\n",
    "\n",
    "tree = [[] for _ in range(n+1)]\n",
    "parents = [0 for _ in range(n+1)]\n",
    "\n",
    "for _ in range(n-1):\n",
    "    a, b = map(int, input().split())\n",
    "    tree[a].append(b)\n",
    "    tree[b].append(a)\n",
    "\n",
    "dfs(1, tree, parents)\n",
    "\n",
    "for i in range(2, n+1):\n",
    "    print(parents[i])"
   ]
  }
 ],
 "metadata": {
  "interpreter": {
   "hash": "63fd5069d213b44bf678585dea6b12cceca9941eaf7f819626cde1f2670de90d"
  },
  "kernelspec": {
   "display_name": "Python 3.9.5 64-bit",
   "language": "python",
   "name": "python3"
  },
  "language_info": {
   "codemirror_mode": {
    "name": "ipython",
    "version": 3
   },
   "file_extension": ".py",
   "mimetype": "text/x-python",
   "name": "python",
   "nbconvert_exporter": "python",
   "pygments_lexer": "ipython3",
   "version": "3.9.5"
  },
  "orig_nbformat": 4
 },
 "nbformat": 4,
 "nbformat_minor": 2
}
