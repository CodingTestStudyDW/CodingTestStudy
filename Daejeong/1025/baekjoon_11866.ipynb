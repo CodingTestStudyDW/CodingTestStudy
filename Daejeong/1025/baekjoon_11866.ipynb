{
 "cells": [
  {
   "cell_type": "markdown",
   "metadata": {},
   "source": [
    "## 백준(11866번/실버4/구현) : 요세푸스 문제 0 / [문제 링크](https://www.acmicpc.net/problem/11866)"
   ]
  },
  {
   "cell_type": "code",
   "execution_count": 29,
   "metadata": {},
   "outputs": [
    {
     "name": "stdout",
     "output_type": "stream",
     "text": [
      "<3, 6, 2, 7, 5, 1, 4>\n"
     ]
    }
   ],
   "source": [
    "from collections import deque\n",
    "\n",
    "N, K = map(int, input().split())\n",
    "Q = deque(range(1, N+1))\n",
    "kill_log = []\n",
    "for _ in range(N):\n",
    "    Q.rotate(-K)\n",
    "    Q.rotate(1)\n",
    "    kill_log.append(Q.popleft())\n",
    "    \n",
    "print(\"<\" + str(kill_log)[1:-1] + \">\")\n",
    "# 마지막 출력을 주의해야하는 문제"
   ]
  }
 ],
 "metadata": {
  "interpreter": {
   "hash": "63fd5069d213b44bf678585dea6b12cceca9941eaf7f819626cde1f2670de90d"
  },
  "kernelspec": {
   "display_name": "Python 3.9.5 64-bit",
   "name": "python3"
  },
  "language_info": {
   "codemirror_mode": {
    "name": "ipython",
    "version": 3
   },
   "file_extension": ".py",
   "mimetype": "text/x-python",
   "name": "python",
   "nbconvert_exporter": "python",
   "pygments_lexer": "ipython3",
   "version": "3.9.5"
  },
  "orig_nbformat": 4
 },
 "nbformat": 4,
 "nbformat_minor": 2
}
