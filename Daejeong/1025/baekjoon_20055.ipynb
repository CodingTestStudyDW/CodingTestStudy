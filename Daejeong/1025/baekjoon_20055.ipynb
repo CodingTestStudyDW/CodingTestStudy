{
 "cells": [
  {
   "cell_type": "markdown",
   "metadata": {},
   "source": [
    "## 백준(20055번/실버1/구현) : 컨베이어 벨트 위의 로봇 / [문제 링크](https://www.acmicpc.net/problem/20055)"
   ]
  },
  {
   "cell_type": "code",
   "execution_count": 7,
   "metadata": {},
   "outputs": [
    {
     "name": "stdout",
     "output_type": "stream",
     "text": [
      "2\n"
     ]
    }
   ],
   "source": [
    "N, K = map(int, input().split())\n",
    "# 내구도\n",
    "A = list(map(int, input().split()))\n",
    "# 로봇 유무\n",
    "A2 = [0]*N\n",
    "\n",
    "step = 0\n",
    "\n",
    "while A.count(0) < K:\n",
    "    step += 1\n",
    "    # 한칸씩 이동\n",
    "    # 해당 기능을 편하게 하려면 numpy.roll or deque.rotate를 활용하면 됨\n",
    "    a = A.pop()\n",
    "    A.insert(0, a)\n",
    "\n",
    "    A2.pop()\n",
    "    A2.insert(0, 0)\n",
    "    \n",
    "    # 로봇이 내려갈땐 자리가 비워짐\n",
    "    A2[N-1] = 0\n",
    "\n",
    "    # 컨베이어 벨트 회전\n",
    "    for i in range(N-2, 0, -1):\n",
    "        # 지금 칸에 로봇 있고, 다음칸에 내구도 있고, 다음칸에 로봇이 없으면\n",
    "        if A2[i] and A[i+1] and (not A2[i+1]):\n",
    "            # 지금칸의 로봇을 다음칸으로 옮겨주고\n",
    "            A2[i] = 0\n",
    "            A2[i+1] = 1\n",
    "            # 다음칸의 내구도를 1 깎아준다\n",
    "            A[i+1] = max(0, A[i+1]-1)\n",
    "\n",
    "    # 로봇이 내려갈땐 자리가 비워짐\n",
    "    A2[N-1] = 0\n",
    "\n",
    "    # 첫칸에 내구도가 남아있고, 로봇이 없을때\n",
    "    if A[0] and (not A2[0]):\n",
    "        # 로봇을 채워주고\n",
    "        A2[0] = 1\n",
    "        # 내구도를 1 깎는다 근데 내구도가 0이면 -1이되어버리니까 max를 통해서 0으로 내려가는걸 방지해준다\n",
    "        A[0] = max(0, A[0] - 1)\n",
    "\n",
    "# 횟수 출력\n",
    "print(step)"
   ]
  },
  {
   "cell_type": "code",
   "execution_count": 9,
   "metadata": {},
   "outputs": [
    {
     "name": "stdout",
     "output_type": "stream",
     "text": [
      "deque([3, 1, 2])\n",
      "deque([2, 3, 1])\n",
      "deque([1, 2, 3])\n"
     ]
    }
   ],
   "source": [
    "from collections import deque\n",
    "\n",
    "items = deque([1, 2, 3])\n",
    "\n",
    "for i in range(3):\n",
    "    items.rotate(1)        # The deque is now: [3, 1, 2]\n",
    "    print(items)"
   ]
  },
  {
   "cell_type": "code",
   "execution_count": 12,
   "metadata": {},
   "outputs": [
    {
     "name": "stdout",
     "output_type": "stream",
     "text": [
      "[3 1 2]\n",
      "[2 3 1]\n",
      "[1 2 3]\n"
     ]
    }
   ],
   "source": [
    "import numpy as np\n",
    "\n",
    "a = np.arange(1,4) #Generate some data\n",
    "\n",
    "for i in range(3):\n",
    "    a = np.roll(a, 1)\n",
    "    print(a)"
   ]
  },
  {
   "cell_type": "code",
   "execution_count": null,
   "metadata": {},
   "outputs": [],
   "source": [
    "# 구현 알고리즘에서 자주 사용되는 2차원 배열에서 이동하는 알고리즘\n",
    "# 이코테 영상보고 그냥 적어둠\n",
    "\n",
    "# 동, 북, 서, 남\n",
    "dx = [0, -1, 0, 1]\n",
    "dy = [1, 0, -1, 0]\n",
    "\n",
    "# 현재 워치\n",
    "x, y = 2, 2\n",
    "\n",
    "for i in range(4):\n",
    "    # 다음 위치\n",
    "    nx = x + dx[i]\n",
    "    ny = y + dy[i]"
   ]
  }
 ],
 "metadata": {
  "interpreter": {
   "hash": "63fd5069d213b44bf678585dea6b12cceca9941eaf7f819626cde1f2670de90d"
  },
  "kernelspec": {
   "display_name": "Python 3.9.5 64-bit",
   "name": "python3"
  },
  "language_info": {
   "codemirror_mode": {
    "name": "ipython",
    "version": 3
   },
   "file_extension": ".py",
   "mimetype": "text/x-python",
   "name": "python",
   "nbconvert_exporter": "python",
   "pygments_lexer": "ipython3",
   "version": "3.9.5"
  },
  "orig_nbformat": 4
 },
 "nbformat": 4,
 "nbformat_minor": 2
}
