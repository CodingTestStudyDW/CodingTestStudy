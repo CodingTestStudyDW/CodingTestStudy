{
 "cells": [
  {
   "cell_type": "markdown",
   "metadata": {},
   "source": [
    "## 백준(11047번/실버2/그리디 알고리즘) : 동전 0 / [문제 링크](https://www.acmicpc.net/problem/11047)"
   ]
  },
  {
   "cell_type": "code",
   "execution_count": 3,
   "metadata": {},
   "outputs": [
    {
     "name": "stdout",
     "output_type": "stream",
     "text": [
      "6\n"
     ]
    }
   ],
   "source": [
    "N, K = map(int, input().split())\n",
    "\n",
    "coins = [int(input()) for _ in range(N)]\n",
    "coins.sort(reverse=True)\n",
    "\n",
    "count = 0\n",
    "\n",
    "for coin in coins:\n",
    "    if K//coin > 0:\n",
    "        count += K // coin\n",
    "        K %= coin\n",
    "\n",
    "print(count)\n",
    "\n",
    "# Greedy 알고리즘의 가장 기초를 보여준것 같은 문제\n",
    "# Greedy : 그리디 알고리즘(욕심쟁이 알고리즘, Greedy Algorithm)이란 \"매 선택에서 지금 이 순간 당장 최적인 답을 선택하여 적합한 결과를 도출하자\" 라는 모토를 가지는 알고리즘 설계 기법이다.\n",
    "#          그리디 알고리즘은 부분의 최적해들의 집합이 곧 전체문제의 해답이 될 때 사용 할 수 있다. 그리디 알고리즘은 최적해를 보장해주지 못한다."
   ]
  }
 ],
 "metadata": {
  "interpreter": {
   "hash": "63fd5069d213b44bf678585dea6b12cceca9941eaf7f819626cde1f2670de90d"
  },
  "kernelspec": {
   "display_name": "Python 3.9.5 64-bit",
   "name": "python3"
  },
  "language_info": {
   "codemirror_mode": {
    "name": "ipython",
    "version": 3
   },
   "file_extension": ".py",
   "mimetype": "text/x-python",
   "name": "python",
   "nbconvert_exporter": "python",
   "pygments_lexer": "ipython3",
   "version": "3.9.5"
  },
  "orig_nbformat": 4
 },
 "nbformat": 4,
 "nbformat_minor": 2
}
