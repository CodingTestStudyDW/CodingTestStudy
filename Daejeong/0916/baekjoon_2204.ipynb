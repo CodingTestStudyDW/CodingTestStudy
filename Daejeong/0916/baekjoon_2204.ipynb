{
 "cells": [
  {
   "cell_type": "code",
   "execution_count": 6,
   "source": [
    "while True:\r\n",
    "    # 입력이 0이 들어올때까지 반복\r\n",
    "    case = int(input())\r\n",
    "    if case == 0:\r\n",
    "        break\r\n",
    "\r\n",
    "    # 입력을 받아줄 리스트를 선언\r\n",
    "    word_list = []\r\n",
    "    word_list2 = []\r\n",
    "\r\n",
    "    # 하나는 입력 그대로, 하나는 대문자로 변환해서 리스트에 append\r\n",
    "    for i in range(case):\r\n",
    "        word = input()\r\n",
    "        word_list.append(word)\r\n",
    "        word_list2.append(word.upper())\r\n",
    "\r\n",
    "    # 문자열 정렬 ㄱㄱ  \r\n",
    "    word_list2.sort()\r\n",
    "\r\n",
    "    # 입력값을 돌려서 sort된 word_list2에 있는 인덱스가 0이면 가장 먼저오는 단어니까 그대로 출력\r\n",
    "    for word in word_list:\r\n",
    "        index_num = word_list2.index(word.upper())\r\n",
    "        if index_num == 0:\r\n",
    "            print(word)"
   ],
   "outputs": [
    {
     "output_type": "stream",
     "name": "stdout",
     "text": [
      "aat\n"
     ]
    }
   ],
   "metadata": {}
  }
 ],
 "metadata": {
  "orig_nbformat": 4,
  "language_info": {
   "name": "python",
   "version": "3.8.3",
   "mimetype": "text/x-python",
   "codemirror_mode": {
    "name": "ipython",
    "version": 3
   },
   "pygments_lexer": "ipython3",
   "nbconvert_exporter": "python",
   "file_extension": ".py"
  },
  "kernelspec": {
   "name": "python3",
   "display_name": "Python 3.8.3 64-bit ('base': conda)"
  },
  "interpreter": {
   "hash": "b3ba2566441a7c06988d0923437866b63cedc61552a5af99d1f4fb67d367b25f"
  }
 },
 "nbformat": 4,
 "nbformat_minor": 2
}