{
 "cells": [
  {
   "cell_type": "code",
   "execution_count": 2,
   "source": [
    "def check_board(base_board, input_board):\r\n",
    "    change_total = 0\r\n",
    "    for i in range(len(input_board)):\r\n",
    "        for j in range(len(input_board[i])):\r\n",
    "            if base_board[i][j] != input_board[i][j]:\r\n",
    "                change_total += 1\r\n",
    "\r\n",
    "    return change_total\r\n",
    "\r\n",
    "# base_board_a = 검정색으로 시작할때, base_board_b = 흰색으로 시작할때\r\n",
    "base_board_a = ['BWBWBWBW', 'WBWBWBWB', 'BWBWBWBW', 'WBWBWBWB','BWBWBWBW', 'WBWBWBWB','BWBWBWBW', 'WBWBWBWB']\r\n",
    "base_board_b = ['WBWBWBWB', 'BWBWBWBW', 'WBWBWBWB', 'BWBWBWBW', 'WBWBWBWB','BWBWBWBW', 'WBWBWBWB','BWBWBWBW']\r\n",
    "base_board_list = [base_board_a, base_board_b]\r\n",
    "\r\n",
    "# 첫째 줄에 N과 M이 주어진다. N = 열 M = 행\r\n",
    "N, M = map(int, input().split())\r\n",
    "# 바둑판을 입력 받는다\r\n",
    "input_board = [input() for _ in range(N)]\r\n",
    "\r\n",
    "# 최소 변경수 받는 변수\r\n",
    "final_total = 0\r\n",
    "# 8X8씩 잘라서 완전 탐색 진행\r\n",
    "for i in range(N-7):\r\n",
    "    for j in range(M-7):\r\n",
    "        for base_board in base_board_list:\r\n",
    "            change_total = check_board(base_board, input_board[i:7+i][j:7+j])\r\n",
    "        \r\n",
    "            # 최소값을 받을때 값 변경\r\n",
    "            if change_total < final_total:\r\n",
    "                final_total = change_total\r\n",
    "\r\n",
    "print(final_total)\r\n"
   ],
   "outputs": [
    {
     "output_type": "error",
     "ename": "TypeError",
     "evalue": "check_board() missing 1 required positional argument: 'change_total'",
     "traceback": [
      "\u001b[1;31m---------------------------------------------------------------------------\u001b[0m",
      "\u001b[1;31mTypeError\u001b[0m                                 Traceback (most recent call last)",
      "\u001b[1;32m<ipython-input-2-2542ce310fd0>\u001b[0m in \u001b[0;36m<module>\u001b[1;34m\u001b[0m\n\u001b[0;32m     36\u001b[0m \u001b[1;32mfor\u001b[0m \u001b[0mi\u001b[0m \u001b[1;32min\u001b[0m \u001b[0mrange\u001b[0m\u001b[1;33m(\u001b[0m\u001b[0mN\u001b[0m\u001b[1;33m-\u001b[0m\u001b[1;36m8\u001b[0m\u001b[1;33m)\u001b[0m\u001b[1;33m:\u001b[0m\u001b[1;33m\u001b[0m\u001b[1;33m\u001b[0m\u001b[0m\n\u001b[0;32m     37\u001b[0m     \u001b[1;32mfor\u001b[0m \u001b[0mj\u001b[0m \u001b[1;32min\u001b[0m \u001b[0mrange\u001b[0m\u001b[1;33m(\u001b[0m\u001b[0mM\u001b[0m\u001b[1;33m-\u001b[0m\u001b[1;36m8\u001b[0m\u001b[1;33m)\u001b[0m\u001b[1;33m:\u001b[0m\u001b[1;33m\u001b[0m\u001b[1;33m\u001b[0m\u001b[0m\n\u001b[1;32m---> 38\u001b[1;33m         \u001b[0mchange_total\u001b[0m \u001b[1;33m=\u001b[0m \u001b[0mcheck_board\u001b[0m\u001b[1;33m(\u001b[0m\u001b[0mbase_board\u001b[0m\u001b[1;33m[\u001b[0m\u001b[0mi\u001b[0m\u001b[1;33m:\u001b[0m\u001b[1;36m8\u001b[0m\u001b[1;33m+\u001b[0m\u001b[0mi\u001b[0m\u001b[1;33m]\u001b[0m\u001b[1;33m[\u001b[0m\u001b[0mj\u001b[0m\u001b[1;33m:\u001b[0m\u001b[1;36m8\u001b[0m\u001b[1;33m+\u001b[0m\u001b[0mj\u001b[0m\u001b[1;33m]\u001b[0m\u001b[1;33m,\u001b[0m \u001b[0minput_board\u001b[0m\u001b[1;33m[\u001b[0m\u001b[0mi\u001b[0m\u001b[1;33m:\u001b[0m\u001b[1;36m8\u001b[0m\u001b[1;33m+\u001b[0m\u001b[0mi\u001b[0m\u001b[1;33m]\u001b[0m\u001b[1;33m[\u001b[0m\u001b[0mj\u001b[0m\u001b[1;33m:\u001b[0m\u001b[1;36m8\u001b[0m\u001b[1;33m+\u001b[0m\u001b[0mj\u001b[0m\u001b[1;33m]\u001b[0m\u001b[1;33m)\u001b[0m\u001b[1;33m\u001b[0m\u001b[1;33m\u001b[0m\u001b[0m\n\u001b[0m\u001b[0;32m     39\u001b[0m \u001b[1;33m\u001b[0m\u001b[0m\n\u001b[0;32m     40\u001b[0m         \u001b[1;32mif\u001b[0m \u001b[0mchange_total\u001b[0m \u001b[1;33m<\u001b[0m \u001b[0mfinal_total\u001b[0m\u001b[1;33m:\u001b[0m\u001b[1;33m\u001b[0m\u001b[1;33m\u001b[0m\u001b[0m\n",
      "\u001b[1;31mTypeError\u001b[0m: check_board() missing 1 required positional argument: 'change_total'"
     ]
    }
   ],
   "metadata": {}
  },
  {
   "cell_type": "code",
   "execution_count": 7,
   "source": [
    "def check_board(input_board):\r\n",
    "    change_total = 0\r\n",
    "\r\n",
    "    for idx1, i in enumerate(input_board):\r\n",
    "        for j in range(len(i)-7):\r\n",
    "            floor = i[j:j+7]\r\n",
    "            for idx2, k in enumerate(floor):\r\n",
    "                if idx1 % 2 == 0:\r\n",
    "                    if idx2 % 2 == 0:\r\n",
    "                        if k != 'W': change_total += 1\r\n",
    "                    else:\r\n",
    "                        if k != 'B': change_total += 1\r\n",
    "                else:\r\n",
    "                    if idx2 % 2 == 0:\r\n",
    "                        if k != 'B': change_total += 1\r\n",
    "                    else:\r\n",
    "                        if k != 'W': change_total += 1\r\n",
    "\r\n",
    "    return change_total\r\n",
    "\r\n",
    "N, M = map(int, input().split())\r\n",
    "input_board = [input() for _ in range(N)]\r\n",
    "\r\n",
    "final_total = []\r\n",
    "for i in range(len(input_board)-7):\r\n",
    "    test_board = input_board[i:7+i]\r\n",
    "    change_total = check_board(test_board)\r\n",
    "    final_total.append(change_total)\r\n",
    "\r\n",
    "print(min(final_total))"
   ],
   "outputs": [
    {
     "output_type": "stream",
     "name": "stdout",
     "text": [
      "50\n"
     ]
    }
   ],
   "metadata": {}
  },
  {
   "cell_type": "code",
   "execution_count": 62,
   "source": [
    "n, m = map(int, input().split())\r\n",
    "l = [input() for _ in range(n)]\r\n",
    "result = []\r\n",
    "\r\n",
    "for a in range(n - 7):\r\n",
    "    for i in range(m - 7):\r\n",
    "        idx1 = 0\r\n",
    "        idx2 = 0\r\n",
    "        for b in range(a, a + 8):\r\n",
    "            for j in range(i, i + 8):\r\n",
    "                if (j + b)%2 == 0:\r\n",
    "                    if l[b][j] != 'W': idx1 += 1\r\n",
    "                    if l[b][j] != 'B': idx2 += 1\r\n",
    "                else :\r\n",
    "                    if l[b][j] != 'B': idx1 += 1\r\n",
    "                    if l[b][j] != 'W': idx2 += 1\r\n",
    "        result.append(idx1)\r\n",
    "        result.append(idx2)\r\n",
    "print(min(result))      "
   ],
   "outputs": [
    {
     "output_type": "stream",
     "name": "stdout",
     "text": [
      "BWBWBW\n",
      "BWBWBW\n",
      "BWBWBW\n",
      "BWBWBW\n",
      "BWBWBW\n",
      "BWBWBW\n"
     ]
    }
   ],
   "metadata": {}
  }
 ],
 "metadata": {
  "orig_nbformat": 4,
  "language_info": {
   "name": "python",
   "version": "3.8.3",
   "mimetype": "text/x-python",
   "codemirror_mode": {
    "name": "ipython",
    "version": 3
   },
   "pygments_lexer": "ipython3",
   "nbconvert_exporter": "python",
   "file_extension": ".py"
  },
  "kernelspec": {
   "name": "python3",
   "display_name": "Python 3.8.3 64-bit ('base': conda)"
  },
  "interpreter": {
   "hash": "b3ba2566441a7c06988d0923437866b63cedc61552a5af99d1f4fb67d367b25f"
  }
 },
 "nbformat": 4,
 "nbformat_minor": 2
}