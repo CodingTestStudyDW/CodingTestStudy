{
 "cells": [
  {
   "cell_type": "code",
   "execution_count": 8,
   "source": [
    "def check_board(base_board, input_board):\r\n",
    "    change_total = 0\r\n",
    "    for i in range(len(input_board)):\r\n",
    "        for j in range(len(input_board[i])):\r\n",
    "            if base_board[i][j] != input_board[i][j]:\r\n",
    "                change_total += 1\r\n",
    "\r\n",
    "    return change_total\r\n",
    "\r\n",
    "# base_board_a = 검정색으로 시작할때, base_board_b = 흰색으로 시작할때\r\n",
    "base_board_a = ['BWBWBWBW', 'WBWBWBWB', 'BWBWBWBW', 'WBWBWBWB','BWBWBWBW', 'WBWBWBWB','BWBWBWBW', 'WBWBWBWB']\r\n",
    "base_board_b = ['WBWBWBWB', 'BWBWBWBW', 'WBWBWBWB', 'BWBWBWBW', 'WBWBWBWB','BWBWBWBW', 'WBWBWBWB','BWBWBWBW']\r\n",
    "base_board_list = [base_board_a, base_board_b]\r\n",
    "\r\n",
    "# 첫째 줄에 N과 M이 주어진다. N = 열 M = 행\r\n",
    "N, M = map(int, input().split())\r\n",
    "# 바둑판을 입력 받는다\r\n",
    "input_board = [input() for _ in range(N)]\r\n",
    "\r\n",
    "# 최소 변경수 받는 변수\r\n",
    "final_total = 0\r\n",
    "# 8X8씩 잘라서 완전 탐색 진행\r\n",
    "for i in range(N-7):\r\n",
    "    for j in range(M-7):\r\n",
    "        for base_board in base_board_list:\r\n",
    "            change_total = check_board(base_board, input_board[i:7+i][j:7+j])\r\n",
    "        \r\n",
    "            # 최소값을 받을때 값 변경\r\n",
    "            if change_total < final_total:\r\n",
    "                final_total = change_total\r\n",
    "\r\n",
    "print(final_total)"
   ],
   "outputs": [
    {
     "output_type": "stream",
     "name": "stdout",
     "text": [
      "0\n"
     ]
    }
   ],
   "metadata": {}
  },
  {
   "cell_type": "code",
   "execution_count": 11,
   "source": [
    "N, M = map(int, input().split())\r\n",
    "input_board = [input() for _ in range(N)]\r\n",
    "\r\n",
    "final_total = []\r\n",
    "# 입력값을 8*8 형태로 자르는 반복문\r\n",
    "for i in range(N-7):\r\n",
    "    for j in range(M-7):\r\n",
    "        # 백이 먼저일때, 흑이 먼저일때 변경 횟수를 담은 변수 2개 생성\r\n",
    "        change_total1 = 0\r\n",
    "        change_total2 = 0\r\n",
    "        for a in range(i, i+8):\r\n",
    "            for b in range(j, j+8):\r\n",
    "                # 합이 짝수일때, (1, 1)(1, 3) => 같은색\r\n",
    "                if (a + b) % 2 == 0:\r\n",
    "                    if input_board[a][b] != \"W\": change_total1 += 1\r\n",
    "                    if input_board[a][b] != \"B\": change_total2 += 1\r\n",
    "                    \r\n",
    "                # 합이 홀수일때, (1, 2)(1, 4) => 같은색\r\n",
    "                else:\r\n",
    "                    if input_board[a][b] != \"B\": change_total1 += 1\r\n",
    "                    if input_board[a][b] != \"W\": change_total2 += 1\r\n",
    "\r\n",
    "        final_total.append(change_total1)\r\n",
    "        final_total.append(change_total2)\r\n",
    "\r\n",
    "# 여기서 최솟값 출력\r\n",
    "print(min(final_total))"
   ],
   "outputs": [
    {
     "output_type": "stream",
     "name": "stdout",
     "text": [
      "4\n"
     ]
    }
   ],
   "metadata": {}
  },
  {
   "cell_type": "code",
   "execution_count": 9,
   "source": [
    "# 이거 구글링의 결과\r\n",
    "n, m = map(int, input().split())\r\n",
    "l = [input() for _ in range(n)]\r\n",
    "result = []\r\n",
    "\r\n",
    "for a in range(n - 7):\r\n",
    "    for i in range(m - 7):\r\n",
    "        idx1 = 0\r\n",
    "        idx2 = 0\r\n",
    "        for b in range(a, a + 8):\r\n",
    "            for j in range(i, i + 8):\r\n",
    "                if (j + b)%2 == 0:\r\n",
    "                    if l[b][j] != 'W': idx1 += 1\r\n",
    "                    if l[b][j] != 'B': idx2 += 1\r\n",
    "                else :\r\n",
    "                    if l[b][j] != 'B': idx1 += 1\r\n",
    "                    if l[b][j] != 'W': idx2 += 1\r\n",
    "        result.append(idx1)\r\n",
    "        result.append(idx2)\r\n",
    "print(min(result))      "
   ],
   "outputs": [
    {
     "output_type": "stream",
     "name": "stdout",
     "text": [
      "32\n"
     ]
    }
   ],
   "metadata": {}
  }
 ],
 "metadata": {
  "orig_nbformat": 4,
  "language_info": {
   "name": "python",
   "version": "3.8.3",
   "mimetype": "text/x-python",
   "codemirror_mode": {
    "name": "ipython",
    "version": 3
   },
   "pygments_lexer": "ipython3",
   "nbconvert_exporter": "python",
   "file_extension": ".py"
  },
  "kernelspec": {
   "name": "python3",
   "display_name": "Python 3.8.3 64-bit ('base': conda)"
  },
  "interpreter": {
   "hash": "b3ba2566441a7c06988d0923437866b63cedc61552a5af99d1f4fb67d367b25f"
  }
 },
 "nbformat": 4,
 "nbformat_minor": 2
}