{
 "cells": [
  {
   "cell_type": "markdown",
   "source": [
    "## 백준(2435번/실버5) : 기상청 인턴 신현수 / [문제 링크](https://www.acmicpc.net/problem/2435)"
   ],
   "metadata": {}
  },
  {
   "cell_type": "code",
   "execution_count": 8,
   "source": [
    "N, K = map(int, input().split())\r\n",
    "\r\n",
    "# 온도, 온도의 합을 담는 리스트를 선언\r\n",
    "temp_list = list(map(int, input().split()))\r\n",
    "temp_sum_list = []\r\n",
    "\r\n",
    "# temp_list의 길이 - (K-1) 만큼 반복\r\n",
    "for i in range(len(temp_list) - (K-1)):\r\n",
    "    # temp_list 의 i:i+K 만큼 슬라이싱 해서 합을 구하고 그 값을 sum_list에 저장\r\n",
    "    # result변수에 따로 담지 않고 바로 append해도 되긴하지만 그러면 코드가 너무 안이쁨 ㅋㅎㅋㅎㅋㅋ\r\n",
    "    result = sum(temp_list[i:i+(K)])\r\n",
    "    temp_sum_list.append(result)\r\n",
    "\r\n",
    "# 가장 큰 값을 출력\r\n",
    "print(max(temp_sum_list))\r\n",
    "\r\n",
    "# 코드 제출할때 테스트용으로 집어넣은 print가 혹시 섞여들어가진않았는지 잘 확인합시다... Holy Moly"
   ],
   "outputs": [],
   "metadata": {}
  },
  {
   "cell_type": "code",
   "execution_count": null,
   "source": [],
   "outputs": [],
   "metadata": {}
  }
 ],
 "metadata": {
  "orig_nbformat": 4,
  "language_info": {
   "name": "python",
   "version": "3.8.3",
   "mimetype": "text/x-python",
   "codemirror_mode": {
    "name": "ipython",
    "version": 3
   },
   "pygments_lexer": "ipython3",
   "nbconvert_exporter": "python",
   "file_extension": ".py"
  },
  "kernelspec": {
   "name": "python3",
   "display_name": "Python 3.8.3 64-bit ('base': conda)"
  },
  "interpreter": {
   "hash": "b3ba2566441a7c06988d0923437866b63cedc61552a5af99d1f4fb67d367b25f"
  }
 },
 "nbformat": 4,
 "nbformat_minor": 2
}