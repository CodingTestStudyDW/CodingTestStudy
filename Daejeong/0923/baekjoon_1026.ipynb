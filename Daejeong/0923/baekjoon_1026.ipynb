{
 "cells": [
  {
   "cell_type": "markdown",
   "source": [
    "## 백준(1026번/실버5) : 보물 / [문제 링크](https://www.acmicpc.net/problem/1026)"
   ],
   "metadata": {}
  },
  {
   "cell_type": "code",
   "execution_count": 10,
   "source": [
    "num_count = int(input())\r\n",
    "\r\n",
    "A = list(map(int, input().split()))\r\n",
    "B = list(map(int, input().split()))\r\n",
    "\r\n",
    "# A는 큰수 -> 작은수로 정렬 B는 작은수 -> 큰수로 정렬\r\n",
    "A_sorted = sorted(A, reverse=True)\r\n",
    "B_sorted = sorted(B)\r\n",
    "\r\n",
    "# B에서 가장 작은수와 A의 가장 큰수의 index를 A리스트의 순서 변경을 통해 맞춰줌\r\n",
    "for idx, i in enumerate(B_sorted):\r\n",
    "    A[B.index(i)] = A_sorted[idx]\r\n",
    "\r\n",
    "# 변경된 A와 B의 곱을 S에 담아줌\r\n",
    "S = [A[i]*B[i] for i in range(num_count)]\r\n",
    "\r\n",
    "# result\r\n",
    "print(sum(S))\r\n",
    "\r\n",
    "# Numpy 모듈은 사용 불가능 / numpy는 python 내장이 아닌 별도의 설치모듈이라 안되는듯...\r\n",
    "# 음 알고리즘상 맞는거같은데 틀렸다고하는데 왜 틀렸을까..."
   ],
   "outputs": [
    {
     "output_type": "stream",
     "name": "stdout",
     "text": [
      "18\n"
     ]
    }
   ],
   "metadata": {}
  },
  {
   "cell_type": "code",
   "execution_count": 11,
   "source": [
    "num_count = int(input())\r\n",
    "\r\n",
    "A = list(map(int, input().split()))\r\n",
    "B = list(map(int, input().split()))\r\n",
    "\r\n",
    "S = []\r\n",
    "for _ in range(num_count):\r\n",
    "    # pop을 통해서 A, B리스트의 각각 최대, 최소값을 추출해 내고 그값을 곱해서 S에 넣어줌\r\n",
    "    S.append(A.pop(A.index(max(A)))*B.pop(B.index(min(B))))\r\n",
    "\r\n",
    "# S리스트의 원소의 합이 정답!\r\n",
    "print(sum(S))\r\n",
    "\r\n",
    "# 이게 정답이래여\r\n",
    "# 구글링해서 여러 답변을 찾아봤는데 B의 변환이 없어야함에도 불구하고 B를 변형시켜 정답을 유도하는 식이 많았음"
   ],
   "outputs": [
    {
     "output_type": "error",
     "ename": "ValueError",
     "evalue": "invalid literal for int() with base 10: ''",
     "traceback": [
      "\u001b[1;31m---------------------------------------------------------------------------\u001b[0m",
      "\u001b[1;31mValueError\u001b[0m                                Traceback (most recent call last)",
      "\u001b[1;32m<ipython-input-11-11844a9c1516>\u001b[0m in \u001b[0;36m<module>\u001b[1;34m\u001b[0m\n\u001b[1;32m----> 1\u001b[1;33m \u001b[0mnum_count\u001b[0m \u001b[1;33m=\u001b[0m \u001b[0mint\u001b[0m\u001b[1;33m(\u001b[0m\u001b[0minput\u001b[0m\u001b[1;33m(\u001b[0m\u001b[1;33m)\u001b[0m\u001b[1;33m)\u001b[0m\u001b[1;33m\u001b[0m\u001b[1;33m\u001b[0m\u001b[0m\n\u001b[0m\u001b[0;32m      2\u001b[0m \u001b[1;33m\u001b[0m\u001b[0m\n\u001b[0;32m      3\u001b[0m \u001b[0mA\u001b[0m \u001b[1;33m=\u001b[0m \u001b[0mlist\u001b[0m\u001b[1;33m(\u001b[0m\u001b[0mmap\u001b[0m\u001b[1;33m(\u001b[0m\u001b[0mint\u001b[0m\u001b[1;33m,\u001b[0m \u001b[0minput\u001b[0m\u001b[1;33m(\u001b[0m\u001b[1;33m)\u001b[0m\u001b[1;33m.\u001b[0m\u001b[0msplit\u001b[0m\u001b[1;33m(\u001b[0m\u001b[1;33m)\u001b[0m\u001b[1;33m)\u001b[0m\u001b[1;33m)\u001b[0m\u001b[1;33m\u001b[0m\u001b[1;33m\u001b[0m\u001b[0m\n\u001b[0;32m      4\u001b[0m \u001b[0mB\u001b[0m \u001b[1;33m=\u001b[0m \u001b[0mlist\u001b[0m\u001b[1;33m(\u001b[0m\u001b[0mmap\u001b[0m\u001b[1;33m(\u001b[0m\u001b[0mint\u001b[0m\u001b[1;33m,\u001b[0m \u001b[0minput\u001b[0m\u001b[1;33m(\u001b[0m\u001b[1;33m)\u001b[0m\u001b[1;33m.\u001b[0m\u001b[0msplit\u001b[0m\u001b[1;33m(\u001b[0m\u001b[1;33m)\u001b[0m\u001b[1;33m)\u001b[0m\u001b[1;33m)\u001b[0m\u001b[1;33m\u001b[0m\u001b[1;33m\u001b[0m\u001b[0m\n\u001b[0;32m      5\u001b[0m \u001b[1;33m\u001b[0m\u001b[0m\n",
      "\u001b[1;31mValueError\u001b[0m: invalid literal for int() with base 10: ''"
     ]
    }
   ],
   "metadata": {}
  }
 ],
 "metadata": {
  "orig_nbformat": 4,
  "language_info": {
   "name": "python",
   "version": "3.8.3",
   "mimetype": "text/x-python",
   "codemirror_mode": {
    "name": "ipython",
    "version": 3
   },
   "pygments_lexer": "ipython3",
   "nbconvert_exporter": "python",
   "file_extension": ".py"
  },
  "kernelspec": {
   "name": "python3",
   "display_name": "Python 3.8.3 64-bit ('base': conda)"
  },
  "interpreter": {
   "hash": "b3ba2566441a7c06988d0923437866b63cedc61552a5af99d1f4fb67d367b25f"
  }
 },
 "nbformat": 4,
 "nbformat_minor": 2
}