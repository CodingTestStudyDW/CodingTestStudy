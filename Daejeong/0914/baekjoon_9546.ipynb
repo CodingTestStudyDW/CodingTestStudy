{
 "cells": [
  {
   "cell_type": "code",
   "execution_count": 5,
   "source": [
    "# 첫번째줄은 테스트 케이스의 수를 입력받음\r\n",
    "case = int(input())\r\n",
    "\r\n",
    "# 테스트 케이스 수만큼 반복함\r\n",
    "for i in range(case):\r\n",
    "    # 정류장의 수를 입력받음\r\n",
    "    station_count = int(input())\r\n",
    "    passanger_count = 0\r\n",
    "    # 정류장은 매번 사람이 내리고 마지막 정류장에서는 승객이 없음\r\n",
    "    for station in range(station_count):\r\n",
    "        # 승객수의 절반과, 반명의 승객이 내린다 => 반명이 타고 승객수가 2배로 증가한다\r\n",
    "        passanger_count = (passanger_count + 0.5) * 2\r\n",
    "    # 최종 남은 승객수 반환 / 연산과정에서 float형태로 변경되어 int로 다시 변환해줌\r\n",
    "    print(int(passanger_count))  "
   ],
   "outputs": [
    {
     "output_type": "stream",
     "name": "stdout",
     "text": [
      "1023\n",
      "1\n",
      "7\n"
     ]
    }
   ],
   "metadata": {}
  }
 ],
 "metadata": {
  "orig_nbformat": 4,
  "language_info": {
   "name": "python",
   "version": "3.8.3",
   "mimetype": "text/x-python",
   "codemirror_mode": {
    "name": "ipython",
    "version": 3
   },
   "pygments_lexer": "ipython3",
   "nbconvert_exporter": "python",
   "file_extension": ".py"
  },
  "kernelspec": {
   "name": "python3",
   "display_name": "Python 3.8.3 64-bit ('base': conda)"
  },
  "interpreter": {
   "hash": "b3ba2566441a7c06988d0923437866b63cedc61552a5af99d1f4fb67d367b25f"
  }
 },
 "nbformat": 4,
 "nbformat_minor": 2
}