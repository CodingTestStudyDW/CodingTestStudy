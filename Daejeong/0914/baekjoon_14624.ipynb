{
 "cells": [
  {
   "cell_type": "code",
   "execution_count": 46,
   "source": [
    "def make_simbol(count):\r\n",
    "    # 좌, 우로 ㅅ모양 표현하기위한 중앙 변수 생성\r\n",
    "    median_right = count // 2\r\n",
    "    median_left = count // 2\r\n",
    "\r\n",
    "    # 심볼은 count // 2 + 2 만큼의 길이\r\n",
    "    for i in range(count // 2 + 2):\r\n",
    "        for j in range(count):\r\n",
    "            # 첫번째줄은 ㅡ 표현을 위해 *로 꽉 채움\r\n",
    "            if i == 0:\r\n",
    "                print(\"*\", end=\"\")\r\n",
    "            # 두번째줄 부터 ㅅ 표현을 위해 앞서 만든 좌, 우 중앙 변수 활용\r\n",
    "            else:\r\n",
    "                if j == median_right or j == median_left:\r\n",
    "                    print(\"*\", end=\"\")\r\n",
    "                else:\r\n",
    "                    print(\" \", end=\"\")\r\n",
    "        if i != count // 2 + 2:\r\n",
    "            print()\r\n",
    "\r\n",
    "        if i > 0:\r\n",
    "            # 2번째줄은 가운데 점 하나만 찍기 때문에, right, left를 같은값으로 두고 활용\r\n",
    "            # 3번째줄부터 좌우로 하나씩 값을 키우고 줄이면서, ㅅ 모양 표현\r\n",
    "            median_right += 1\r\n",
    "            median_left -= 1\r\n",
    "\r\n",
    "    # 이게 제출 형식과 다르다고해서 봤더니...\r\n",
    "    # 내 답변은 이중반복구조를 통해 N*N행렬을 모두 가득 채운 형태이고\r\n",
    "    # 불필요한 공백이 들어갔다고하여 오답 처리된듯...\r\n",
    "\r\n",
    "# 구글링해서 찾은 답변\r\n",
    "def make_simbol2(count):\r\n",
    "    if count % 2 == 1:\r\n",
    "        # 1, 2번째줄은 그냥 박아놓고\r\n",
    "        print('*' * count)\r\n",
    "        print(' ' * (count//2) + '*')\r\n",
    "        # 3번째줄 부터 i값에 적절한 연산을 통해 ㅅ모양 표현 \r\n",
    "        for i in range(count//2):\r\n",
    "            print(' ' * (count//2 - i - 1) + '*' + ' ' * (i*2 + 1) + '*')\r\n",
    "\r\n",
    "a = int(input())\r\n",
    "\r\n",
    "# 입력 값이 짝수 일때\r\n",
    "if a % 2 == 0:\r\n",
    "    # 문구 출력\r\n",
    "    print(\"I LOVE CBNU\")\r\n",
    "# 입력 값이 홀수 일때\r\n",
    "else:\r\n",
    "    # 전북대 마크를 그리세요\r\n",
    "    make_simbol(a)\r\n",
    "    print()\r\n",
    "    make_simbol2(a)"
   ],
   "outputs": [
    {
     "output_type": "stream",
     "name": "stdout",
     "text": [
      "*****\n",
      "  *  \n",
      " * * \n",
      "*   *\n",
      "\n",
      "*****\n",
      "  *\n",
      " * *\n",
      "*   *\n"
     ]
    }
   ],
   "metadata": {}
  }
 ],
 "metadata": {
  "orig_nbformat": 4,
  "language_info": {
   "name": "python",
   "version": "3.8.3"
  },
  "kernelspec": {
   "name": "python3",
   "display_name": "Python 3.8.3 64-bit ('base': conda)"
  },
  "interpreter": {
   "hash": "b3ba2566441a7c06988d0923437866b63cedc61552a5af99d1f4fb67d367b25f"
  }
 },
 "nbformat": 4,
 "nbformat_minor": 2
}