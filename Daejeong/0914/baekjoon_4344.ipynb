{
 "cells": [
  {
   "cell_type": "code",
   "execution_count": null,
   "source": [
    "# Case 개수를 받는 변수\r\n",
    "case_num = int(input())\r\n",
    "\r\n",
    "# Case만큼 반복하는 반복 구조\r\n",
    "for i in range(case_num):\r\n",
    "    # 학생수, 학생 점수를 받는 변수\r\n",
    "    a = list(map(int, input().split()))\r\n",
    "    # 학생수 변수 생성\r\n",
    "    stu_num = a[0]\r\n",
    "    # 학생 점수 list변수 생성\r\n",
    "    stu_score = a[1:]\r\n",
    "    # 학생 평균 구하기 총합 / 학생 수\r\n",
    "    stu_mean = sum(stu_score) / len(stu_score)    \r\n",
    "    # 평균이 넘는 학생수\r\n",
    "    stu_mean_over = 0\r\n",
    "    for stu in stu_score:\r\n",
    "        # 평균이 넘는 학생이 있으면 stu_mean_over수가 올라감\r\n",
    "        if stu > stu_mean:\r\n",
    "            stu_mean_over += 1\r\n",
    "    # 평균이 넘는 학생수 비율, 셋째자리에서 반올림을 위해 round() 함수 사용\r\n",
    "    rate = round(stu_mean_over / len(stu_score) * 100, 3)\r\n",
    "    print(\"{:.3f}%\".format(rate))\r\n",
    "\r\n",
    "# 문제 풀면서 알게된것 : python 내장 함수에는 mean값을 구해주는 함수가 없다 (numpy 만세)\r\n",
    "# \"{:.nf}\" 를 사용하면 정수도 소수 n번째 자리까지 표현 가능하다"
   ],
   "outputs": [],
   "metadata": {}
  }
 ],
 "metadata": {
  "orig_nbformat": 4,
  "language_info": {
   "name": "python",
   "version": "3.8.3"
  },
  "kernelspec": {
   "name": "python3",
   "display_name": "Python 3.8.3 64-bit ('base': conda)"
  },
  "interpreter": {
   "hash": "b3ba2566441a7c06988d0923437866b63cedc61552a5af99d1f4fb67d367b25f"
  }
 },
 "nbformat": 4,
 "nbformat_minor": 2
}