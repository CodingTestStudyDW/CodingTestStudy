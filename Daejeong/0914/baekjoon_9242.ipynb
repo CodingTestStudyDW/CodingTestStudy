{
 "cells": [
  {
   "cell_type": "code",
   "execution_count": 2,
   "source": [
    "# 숫자 0~9까지 초기화\r\n",
    "zero = ['***','* *','* *','* *','***']\r\n",
    "one = ['  *','  *','  *','  *','  *']\r\n",
    "two = ['***','  *','***','*  ','***']\r\n",
    "three = ['***','  *','***','  *','***']\r\n",
    "four  = ['* *','* *','***','  *','  *']\r\n",
    "five = ['***','*  ','***','  *','***']\r\n",
    "six = ['***','*  ','***','* *','***']\r\n",
    "seven = ['***','  *','  *','  *','  *']\r\n",
    "eight = ['***','* *','***','* *','***']\r\n",
    "nine = ['***','* *','***','  *','***']\r\n",
    "num_list = [zero, one, two, three, four, five, six, seven, eight, nine]\r\n",
    "\r\n",
    "# 입력된 문자열을 받을 빈 배열\r\n",
    "nums = [input() for _ in range(5)]\r\n",
    "# 입력받은 값이 총 몇자리수인지 파악하기 위함\r\n",
    "num_length = (len(nums[0])//4)+1\r\n",
    "\r\n",
    "# 최종 인식된 숫자를 입력받는 문자열\r\n",
    "result_num = ''\r\n",
    "\r\n",
    "# 행 반복\r\n",
    "for j in range(num_length):\r\n",
    "    # 숫자를 인식하기위한 리스트\r\n",
    "    number = [] \r\n",
    "    # 숫자 하나를 만들기위해 열을 먼저 반복\r\n",
    "    for i in range(len(nums)):\r\n",
    "        if j == num_length-1:\r\n",
    "            number.append(nums[i][j*4:])\r\n",
    "        else:\r\n",
    "            number.append(nums[i][j*4:j*4+3])\r\n",
    "    # 입력받은 값이 num_list에 있는 값으면 해당 숫자를 반환 아니면 BOOM을 출력하고 프로그램 종료\r\n",
    "    if number in num_list:\r\n",
    "        # result_num에 인식된 숫자 계속 추가\r\n",
    "        result_num += str(num_list.index(number))\r\n",
    "    else:\r\n",
    "        print('BOOM!!')\r\n",
    "        # exit함수를 활용하면 프로그램이 종료됨\r\n",
    "        exit()\r\n",
    "\r\n",
    "# 최종 숫자를 str에서 int형으로 변환을 통해 마지막 조건인 6으로 나눠떨어지는지 확인\r\n",
    "if int(result_num) % 6 == 0:\r\n",
    "    print('BEER!!')\r\n",
    "else:\r\n",
    "    print('BOOM!!')\r\n",
    "        "
   ],
   "outputs": [
    {
     "output_type": "error",
     "ename": "TypeError",
     "evalue": "object of type 'int' has no len()",
     "traceback": [
      "\u001b[1;31m---------------------------------------------------------------------------\u001b[0m",
      "\u001b[1;31mTypeError\u001b[0m                                 Traceback (most recent call last)",
      "\u001b[1;32m<ipython-input-2-6f75ba74f0a5>\u001b[0m in \u001b[0;36m<module>\u001b[1;34m\u001b[0m\n\u001b[0;32m     26\u001b[0m     \u001b[1;31m# 열 반복\u001b[0m\u001b[1;33m\u001b[0m\u001b[1;33m\u001b[0m\u001b[1;33m\u001b[0m\u001b[0m\n\u001b[0;32m     27\u001b[0m     \u001b[1;32mfor\u001b[0m \u001b[0mi\u001b[0m \u001b[1;32min\u001b[0m \u001b[0mrange\u001b[0m\u001b[1;33m(\u001b[0m\u001b[0mlen\u001b[0m\u001b[1;33m(\u001b[0m\u001b[0mnums\u001b[0m\u001b[1;33m)\u001b[0m\u001b[1;33m)\u001b[0m\u001b[1;33m:\u001b[0m\u001b[1;33m\u001b[0m\u001b[1;33m\u001b[0m\u001b[0m\n\u001b[1;32m---> 28\u001b[1;33m         \u001b[1;32mif\u001b[0m \u001b[0mj\u001b[0m \u001b[1;33m==\u001b[0m \u001b[0mlen\u001b[0m\u001b[1;33m(\u001b[0m\u001b[0mnum_length\u001b[0m\u001b[1;33m)\u001b[0m\u001b[1;33m:\u001b[0m\u001b[1;33m\u001b[0m\u001b[1;33m\u001b[0m\u001b[0m\n\u001b[0m\u001b[0;32m     29\u001b[0m             \u001b[0mnumber\u001b[0m\u001b[1;33m.\u001b[0m\u001b[0mappend\u001b[0m\u001b[1;33m(\u001b[0m\u001b[0mnums\u001b[0m\u001b[1;33m[\u001b[0m\u001b[0mi\u001b[0m\u001b[1;33m]\u001b[0m\u001b[1;33m[\u001b[0m\u001b[0mj\u001b[0m\u001b[1;33m*\u001b[0m\u001b[1;36m4\u001b[0m\u001b[1;33m:\u001b[0m\u001b[1;33m]\u001b[0m\u001b[1;33m)\u001b[0m\u001b[1;33m\u001b[0m\u001b[1;33m\u001b[0m\u001b[0m\n\u001b[0;32m     30\u001b[0m         \u001b[1;32melse\u001b[0m\u001b[1;33m:\u001b[0m\u001b[1;33m\u001b[0m\u001b[1;33m\u001b[0m\u001b[0m\n",
      "\u001b[1;31mTypeError\u001b[0m: object of type 'int' has no len()"
     ]
    }
   ],
   "metadata": {}
  }
 ],
 "metadata": {
  "orig_nbformat": 4,
  "language_info": {
   "name": "python",
   "version": "3.8.3",
   "mimetype": "text/x-python",
   "codemirror_mode": {
    "name": "ipython",
    "version": 3
   },
   "pygments_lexer": "ipython3",
   "nbconvert_exporter": "python",
   "file_extension": ".py"
  },
  "kernelspec": {
   "name": "python3",
   "display_name": "Python 3.8.3 64-bit ('base': conda)"
  },
  "interpreter": {
   "hash": "b3ba2566441a7c06988d0923437866b63cedc61552a5af99d1f4fb67d367b25f"
  }
 },
 "nbformat": 4,
 "nbformat_minor": 2
}