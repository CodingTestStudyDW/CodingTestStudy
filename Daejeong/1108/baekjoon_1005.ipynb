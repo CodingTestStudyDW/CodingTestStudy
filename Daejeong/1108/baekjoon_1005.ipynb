{
 "cells": [
  {
   "cell_type": "markdown",
   "metadata": {},
   "source": [
    "## 백준(1005번/골드3) : ACM Craft / [문제 링크](https://www.acmicpc.net/problem/1005)"
   ]
  },
  {
   "cell_type": "code",
   "execution_count": null,
   "metadata": {},
   "outputs": [],
   "source": [
    "import sys \n",
    "from collections import deque\n",
    "\n",
    "t = int(sys.stdin.readline())\n",
    "\n",
    "for _ in range(t): \n",
    "    # n = 건물의 개수, k = 건설순서 규칙의 총 개수\n",
    "    n, k = map(int, sys.stdin.readline().split()) \n",
    "\n",
    "    # cost = 건물별 걸리는 시간 수\n",
    "    cost = [0] + list(map(int, sys.stdin.readline().split())) \n",
    "\n",
    "    # 다음건물이 몇번으로 이어졌는지 알려주는 그래프\n",
    "    tree = [[] for __ in range(n + 1)] \n",
    "\n",
    "    # 건설 됐는지 아닌지 건설 됐으면 0 해야하면 1\n",
    "    in_degree = [0] * (n + 1)\n",
    "\n",
    "    # 번호별로 몇분씩 걸렸는지 담아둘 dp table \n",
    "    dp = [0] * (n + 1) \n",
    "    \n",
    "    for __ in range(k): \n",
    "        a, b = map(int, sys.stdin.readline().split()) \n",
    "        in_degree[b] += 1 \n",
    "        tree[a].append(b) \n",
    "    \n",
    "    # 다음으로 넘어갈 건물번호를 담을 deque 하나 생성\n",
    "    q = deque() \n",
    "\n",
    "    # deque 다음으로 넘어갈 건물 번호를 append하고 해당 건물번호는 다 끝난것과 같으니 건축 소요시간을 dp_table에 저장\n",
    "    for i in range(1, n + 1): \n",
    "        if in_degree[i] == 0:\n",
    "            q.append(i)\n",
    "            dp[i] = cost[i] \n",
    "\n",
    "    # q에 담긴 번호(다음으로 넘어갈 건물)이 없을때까지 반봅\n",
    "    while q: \n",
    "        now = q.popleft()\n",
    "        for i in tree[now]:\n",
    "            # in_degree에 1로 되어있던 것을 0으로 바꿔주고 \n",
    "            in_degree[i] -= 1 \n",
    "            \n",
    "            # 건물 건설시간을 앞에 건설 했던것과 비교하여 다 큰값으로 넣어주고\n",
    "            dp[i] = max(dp[now] + cost[i], dp[i])\n",
    "\n",
    "            # 또 다음건물로 넘어가기 위해 0이면 q에 append \n",
    "            if in_degree[i] == 0: \n",
    "                q.append(i) \n",
    "    \n",
    "    # 근데 필수로 건설해야할 건물 번호만 있으면 되니까\n",
    "    ans = int(sys.stdin.readline())\n",
    "    \n",
    "    # dp 테이블에 건물번호 것을 빼오면 끝\n",
    "    print(dp[ans])\n"
   ]
  }
 ],
 "metadata": {
  "interpreter": {
   "hash": "63fd5069d213b44bf678585dea6b12cceca9941eaf7f819626cde1f2670de90d"
  },
  "kernelspec": {
   "display_name": "Python 3.9.5 64-bit",
   "name": "python3"
  },
  "language_info": {
   "codemirror_mode": {
    "name": "ipython",
    "version": 3
   },
   "file_extension": ".py",
   "mimetype": "text/x-python",
   "name": "python",
   "nbconvert_exporter": "python",
   "pygments_lexer": "ipython3",
   "version": "3.9.5"
  },
  "orig_nbformat": 4
 },
 "nbformat": 4,
 "nbformat_minor": 2
}
