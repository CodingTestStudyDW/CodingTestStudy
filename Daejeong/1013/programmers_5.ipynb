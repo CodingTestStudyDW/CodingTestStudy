{
 "cells": [
  {
   "cell_type": "markdown",
   "source": [
    "## 프로그래머스(Lv.1/월간 코드 챌린지 시즌1) : 내적 / [문제 링크](https://programmers.co.kr/learn/courses/30/lessons/70128)"
   ],
   "metadata": {}
  },
  {
   "cell_type": "code",
   "execution_count": null,
   "source": [
    "def solution_mine(a, b):\r\n",
    "    return sum([a[i]*b[i] for i in range(len(a))])\r\n",
    "\r\n",
    "def solution_others(a, b):\r\n",
    "    return sum([x*y for x, y in zip(a,b)])"
   ],
   "outputs": [],
   "metadata": {}
  }
 ],
 "metadata": {
  "orig_nbformat": 4,
  "language_info": {
   "name": "python"
  }
 },
 "nbformat": 4,
 "nbformat_minor": 2
}