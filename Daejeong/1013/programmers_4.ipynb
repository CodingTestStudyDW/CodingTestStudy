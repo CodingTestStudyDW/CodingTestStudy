{
 "cells": [
  {
   "cell_type": "markdown",
   "source": [
    "## 프로그래머스(Lv.1/2021 KAKAO BLIND RECRUITMENT) : 신규 아이디 추천 / [문제 링크](https://programmers.co.kr/learn/courses/30/lessons/72410?language=python3)"
   ],
   "metadata": {}
  },
  {
   "cell_type": "code",
   "execution_count": 3,
   "source": [
    "def solution(new_id):\r\n",
    "    # step2에 활용될 문자열 조건 (소문자, 숫자, '-', '_', '.')\r\n",
    "    condition='abcdefghijklmnopqrstuvwxyz0123456789-_.'\r\n",
    "    \r\n",
    "    # step1 대문자 -> 소문자\r\n",
    "    new_id = new_id.lower()\r\n",
    "\r\n",
    "    # step2 일정 문자 제거\r\n",
    "    new_id = ''.join( x for x in new_id if x in condition)\r\n",
    "    \r\n",
    "    # step3 마침표가 2번이상 연속된 부분을 하나로 치환\r\n",
    "    while True:\r\n",
    "        if '..' in new_id: \r\n",
    "            new_id = new_id.replace('..', '.')\r\n",
    "        else: break\r\n",
    "    \r\n",
    "    # step4 마침표가 처음 혹은 끝에 위치했을때 제거\r\n",
    "    if new_id[0] == '.':                      new_id = new_id[1:]\r\n",
    "    if len(new_id) > 1 and new_id[-1] == '.': new_id = new_id[:-1]\r\n",
    "        \r\n",
    "    # step5 id가 빈 문자열일때 new_id에 a를 대입\r\n",
    "    if new_id == '': new_id = 'a'\r\n",
    "        \r\n",
    "    # step6 id의 길이가 15를 넘어갈때, 0~14까지 줄이고 마지막이 .이면 .제거\r\n",
    "    if len(new_id) > 15:\r\n",
    "        new_id = new_id[:15]\r\n",
    "        if new_id[-1] == '.':\r\n",
    "            new_id = new_id[:-1]\r\n",
    "    \r\n",
    "    # step7 id의 길이가 3보다 작으면 3이될때까지 마지막 문자를 붙여줌\r\n",
    "    while len(new_id) < 3:\r\n",
    "        new_id += new_id[-1]\r\n",
    "\r\n",
    "    return new_id\r\n",
    "\r\n",
    "new_id = \"...!@BaT#*..y.abcdefghijklm\"\r\n",
    "answer = solution(new_id)\r\n",
    "print(answer)"
   ],
   "outputs": [
    {
     "output_type": "stream",
     "name": "stdout",
     "text": [
      "bat.y.abcdefghi\n"
     ]
    }
   ],
   "metadata": {}
  }
 ],
 "metadata": {
  "orig_nbformat": 4,
  "language_info": {
   "name": "python",
   "version": "3.7.8",
   "mimetype": "text/x-python",
   "codemirror_mode": {
    "name": "ipython",
    "version": 3
   },
   "pygments_lexer": "ipython3",
   "nbconvert_exporter": "python",
   "file_extension": ".py"
  },
  "kernelspec": {
   "name": "python3",
   "display_name": "Python 3.7.8 64-bit"
  },
  "interpreter": {
   "hash": "57baa5815c940fdaff4d14510622de9616cae602444507ba5d0b6727c008cbd6"
  }
 },
 "nbformat": 4,
 "nbformat_minor": 2
}