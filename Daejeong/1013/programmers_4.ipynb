{
 "cells": [
  {
   "cell_type": "markdown",
   "metadata": {},
   "source": [
    "## 프로그래머스(Lv.1/2021 KAKAO BLIND RECRUITMENT) : 신규 아이디 추천 / [문제 링크](https://programmers.co.kr/learn/courses/30/lessons/72410?language=python3)"
   ]
  },
  {
   "cell_type": "code",
   "execution_count": 3,
   "metadata": {},
   "outputs": [
    {
     "name": "stdout",
     "output_type": "stream",
     "text": [
      "bat.y.abcdefghi\n"
     ]
    }
   ],
   "source": [
    "def solution(new_id):\n",
    "    # step2에 활용될 문자열 조건 (소문자, 숫자, '-', '_', '.')\n",
    "    condition='abcdefghijklmnopqrstuvwxyz0123456789-_.'\n",
    "    \n",
    "    # step1 대문자 -> 소문자\n",
    "    new_id = new_id.lower()\n",
    "\n",
    "    # step2 일정 문자 제거\n",
    "    new_id = ''.join( x for x in new_id if x in condition)\n",
    "    \n",
    "    # step3 마침표가 2번이상 연속된 부분을 하나로 치환\n",
    "    while True:\n",
    "        if '..' in new_id: \n",
    "            new_id = new_id.replace('..', '.')\n",
    "        else: break\n",
    "    \n",
    "    # step4 마침표가 처음 혹은 끝에 위치했을때 제거\n",
    "    if new_id[0] == '.':                      new_id = new_id[1:]\n",
    "    if len(new_id) > 1 and new_id[-1] == '.': new_id = new_id[:-1]\n",
    "        \n",
    "    # step5 id가 빈 문자열일때 new_id에 a를 대입\n",
    "    if new_id == '': new_id = 'a'\n",
    "        \n",
    "    # step6 id의 길이가 15를 넘어갈때, 0~14까지 줄이고 마지막이 .이면 .제거\n",
    "    if len(new_id) > 15:\n",
    "        new_id = new_id[:15]\n",
    "        if new_id[-1] == '.':\n",
    "            new_id = new_id[:-1]\n",
    "    \n",
    "    # step7 id의 길이가 3보다 작으면 3이될때까지 마지막 문자를 붙여줌\n",
    "    while len(new_id) < 3:\n",
    "        new_id += new_id[-1]\n",
    "\n",
    "    return new_id\n",
    "\n",
    "new_id = \"...!@BaT#*..y.abcdefghijklm\"\n",
    "answer = solution(new_id)\n",
    "print(answer)"
   ]
  }
 ],
 "metadata": {
  "interpreter": {
   "hash": "57baa5815c940fdaff4d14510622de9616cae602444507ba5d0b6727c008cbd6"
  },
  "kernelspec": {
   "display_name": "Python 3.7.8 64-bit",
   "name": "python3"
  },
  "language_info": {
   "codemirror_mode": {
    "name": "ipython",
    "version": 3
   },
   "file_extension": ".py",
   "mimetype": "text/x-python",
   "name": "python",
   "nbconvert_exporter": "python",
   "pygments_lexer": "ipython3",
   "version": "3.7.8"
  },
  "orig_nbformat": 4
 },
 "nbformat": 4,
 "nbformat_minor": 2
}
