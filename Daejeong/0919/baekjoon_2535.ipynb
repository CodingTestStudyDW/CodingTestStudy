{
 "cells": [
  {
   "cell_type": "markdown",
   "source": [
    "## 백준(2535번) : 아시아 정보 올림피아드 / [문제 링크](https://www.acmicpc.net/problem/2535)"
   ],
   "metadata": {}
  },
  {
   "cell_type": "code",
   "execution_count": 24,
   "source": [
    "case = int(input())\r\n",
    "\r\n",
    "players = [list(map(int, input().split())) for _ in range(case)]\r\n",
    "\r\n",
    "# 수상자와 수상자의 국가를 담아줄 리스트 생성\r\n",
    "winners = []\r\n",
    "countries = []\r\n",
    "\r\n",
    "# 참가자들의 점수를 기준으로 역정렬 진행\r\n",
    "players.sort(key= lambda a:int(a[-1]), reverse=True)\r\n",
    "\r\n",
    "for player in players:\r\n",
    "    # 수상자가 1명 이상일때, 동일 국가의 수상자가 2명일때, 3번째 수상자는 다른국가로 채워야 한다\r\n",
    "    if len(winners) > 1 and countries.count(player[0]) == 2:\r\n",
    "        pass\r\n",
    "    else:\r\n",
    "        winners.append(player)\r\n",
    "        countries.append(player[0])\r\n",
    "\r\n",
    "    # 금, 은, 동메달 수상자가 모두 채워지면 멈춘다\r\n",
    "    if len(winners) == 3:\r\n",
    "        break\r\n",
    "\r\n",
    "# 하나의 줄에는 소속국가 번호와 학생 번호를 하나의 빈칸을 사이에 두고 출력한다\r\n",
    "for winner in winners:\r\n",
    "    print(f'{winner[0]} {winner[1]}')"
   ],
   "outputs": [
    {
     "output_type": "stream",
     "name": "stdout",
     "text": [
      "[1, 1]\n",
      "[1, 2]\n",
      "[3, 1]\n"
     ]
    }
   ],
   "metadata": {}
  }
 ],
 "metadata": {
  "orig_nbformat": 4,
  "language_info": {
   "name": "python",
   "version": "3.9.5",
   "mimetype": "text/x-python",
   "codemirror_mode": {
    "name": "ipython",
    "version": 3
   },
   "pygments_lexer": "ipython3",
   "nbconvert_exporter": "python",
   "file_extension": ".py"
  },
  "kernelspec": {
   "name": "python3",
   "display_name": "Python 3.9.5 64-bit"
  },
  "interpreter": {
   "hash": "63fd5069d213b44bf678585dea6b12cceca9941eaf7f819626cde1f2670de90d"
  }
 },
 "nbformat": 4,
 "nbformat_minor": 2
}