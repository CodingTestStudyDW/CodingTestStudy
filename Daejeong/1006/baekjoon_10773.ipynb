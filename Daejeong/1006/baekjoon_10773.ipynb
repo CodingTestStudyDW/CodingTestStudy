{
 "cells": [
  {
   "cell_type": "markdown",
   "source": [
    "## 백준(10773번/실버4/구현) : 제로 / [문제 링크](https://www.acmicpc.net/problem/10773)"
   ],
   "metadata": {}
  },
  {
   "cell_type": "code",
   "execution_count": 9,
   "source": [
    "case = int(input())\r\n",
    "\r\n",
    "num_list = []\r\n",
    "for _ in range(case):\r\n",
    "    num = int(input())\r\n",
    "\r\n",
    "    if num:\r\n",
    "        num_list.append(num)\r\n",
    "    # 문제의 핵심 : 만약 0을 입력받으면 리스트 가장 오른쪽 값을 제거한다.\r\n",
    "    else:\r\n",
    "        num_list.pop()\r\n",
    "\r\n",
    "print(sum(num_list))\r\n"
   ],
   "outputs": [
    {
     "output_type": "stream",
     "name": "stdout",
     "text": [
      "1\n"
     ]
    }
   ],
   "metadata": {}
  }
 ],
 "metadata": {
  "orig_nbformat": 4,
  "language_info": {
   "name": "python",
   "version": "3.8.3",
   "mimetype": "text/x-python",
   "codemirror_mode": {
    "name": "ipython",
    "version": 3
   },
   "pygments_lexer": "ipython3",
   "nbconvert_exporter": "python",
   "file_extension": ".py"
  },
  "kernelspec": {
   "name": "python3",
   "display_name": "Python 3.8.3 64-bit ('base': conda)"
  },
  "interpreter": {
   "hash": "b3ba2566441a7c06988d0923437866b63cedc61552a5af99d1f4fb67d367b25f"
  }
 },
 "nbformat": 4,
 "nbformat_minor": 2
}