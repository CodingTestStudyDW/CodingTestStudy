{
 "cells": [
  {
   "cell_type": "markdown",
   "source": [
    "## 백준(1966번/실버3/구현) : 프린터 큐 / [문제 링크](https://www.acmicpc.net/problem/1966)"
   ],
   "metadata": {}
  },
  {
   "cell_type": "code",
   "execution_count": 10,
   "source": [
    "case = int(input())\r\n",
    "\r\n",
    "for _ in range(case):\r\n",
    "    # N = 문서의 개수, M = 현재 내 문서가 몇번째 위치에있는지?\r\n",
    "    N, M = map(int, input().split())\r\n",
    "    # 문서 중요도 순서\r\n",
    "    doc_list = list(map(int, input().split()))\r\n",
    "    # 문서 중요도와 동일한 사이즈의 리스트를 만들어 내 문서를 표시할 수 있도록 만듦\r\n",
    "    idx_list = list(range(len(doc_list)))\r\n",
    "    # 현재 내 문서 위치에 target 으로 표시\r\n",
    "    idx_list[M] = 'target'\r\n",
    "    # 몇번째 인쇄인지 확인용\r\n",
    "    count = 0\r\n",
    "\r\n",
    "    while True:\r\n",
    "        # 인쇄 됐을때\r\n",
    "        if doc_list[0] == max(doc_list):\r\n",
    "            count += 1\r\n",
    "            # 만약 현재 문서가 내 문서라면 count를 출력하고 반복 종료\r\n",
    "            if idx_list[0] == 'target':\r\n",
    "                print(count)\r\n",
    "                break\r\n",
    "            # 문서를 출력\r\n",
    "            else:\r\n",
    "                doc_list.pop(0)\r\n",
    "                idx_list.pop(0)\r\n",
    "        # 인쇄 안됐을때\r\n",
    "        else:\r\n",
    "            # 현재 문서를 맨뒤로 보냄\r\n",
    "            doc_list.append(doc_list.pop(0))\r\n",
    "            idx_list.append(idx_list.pop(0))"
   ],
   "outputs": [
    {
     "output_type": "stream",
     "name": "stdout",
     "text": [
      "5\n"
     ]
    }
   ],
   "metadata": {}
  }
 ],
 "metadata": {
  "orig_nbformat": 4,
  "language_info": {
   "name": "python",
   "version": "3.8.3",
   "mimetype": "text/x-python",
   "codemirror_mode": {
    "name": "ipython",
    "version": 3
   },
   "pygments_lexer": "ipython3",
   "nbconvert_exporter": "python",
   "file_extension": ".py"
  },
  "kernelspec": {
   "name": "python3",
   "display_name": "Python 3.8.3 64-bit ('base': conda)"
  },
  "interpreter": {
   "hash": "b3ba2566441a7c06988d0923437866b63cedc61552a5af99d1f4fb67d367b25f"
  }
 },
 "nbformat": 4,
 "nbformat_minor": 2
}