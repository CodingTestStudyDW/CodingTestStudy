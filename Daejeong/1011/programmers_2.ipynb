{
 "cells": [
  {
   "cell_type": "markdown",
   "source": [
    "## 프로그래머스(Lv.2/2019 KAKAO BLIND RECRUITMENT) : 오픈채팅방 / [문제 링크](https://programmers.co.kr/learn/courses/30/lessons/42888)"
   ],
   "metadata": {}
  },
  {
   "cell_type": "code",
   "execution_count": 1,
   "source": [
    "def solution(record):\r\n",
    "    user_list = {}\r\n",
    "    logs = []\r\n",
    "    answer = []\r\n",
    "    \r\n",
    "    for i in record:\r\n",
    "        splits = i.split(' ')\r\n",
    "        state = splits[0]\r\n",
    "        user_id = splits[1]\r\n",
    "        \r\n",
    "        if state == \"Leave\":\r\n",
    "            nickname = '_'\r\n",
    "        else:\r\n",
    "            nickname = splits[2]\r\n",
    "            try: user_list[user_id]\r\n",
    "            except: user_list[user_id] = nickname\r\n",
    "            if state == 'Change' or (state == 'Enter' and user_list[user_id] != nickname):\r\n",
    "                user_list[user_id] = nickname\r\n",
    "                \r\n",
    "        logs.append([state, user_id])\r\n",
    "        \r\n",
    "    for log in logs:\r\n",
    "        if log[0] == 'Enter':\r\n",
    "            answer.append(f'{user_list[log[1]]}님이 들어왔습니다.')\r\n",
    "        elif log[0] == 'Leave':\r\n",
    "            answer.append(f'{user_list[log[1]]}님이 나갔습니다.')\r\n",
    "\r\n",
    "    return answer\r\n",
    "\r\n",
    "record = [\"Enter uid1234 Muzi\", \"Enter uid4567 Prodo\",\"Leave uid1234\",\"Enter uid1234 Prodo\",\"Change uid4567 Ryan\"]\r\n",
    "print(solution(record))"
   ],
   "outputs": [
    {
     "output_type": "stream",
     "name": "stdout",
     "text": [
      "['Prodo님이 들어왔습니다.', 'Ryan님이 들어왔습니다.', 'Prodo님이 나갔습니다.', 'Prodo님이 들어왔습니다.']\n"
     ]
    }
   ],
   "metadata": {}
  }
 ],
 "metadata": {
  "orig_nbformat": 4,
  "language_info": {
   "name": "python",
   "version": "3.9.5",
   "mimetype": "text/x-python",
   "codemirror_mode": {
    "name": "ipython",
    "version": 3
   },
   "pygments_lexer": "ipython3",
   "nbconvert_exporter": "python",
   "file_extension": ".py"
  },
  "kernelspec": {
   "name": "python3",
   "display_name": "Python 3.9.5 64-bit"
  },
  "interpreter": {
   "hash": "63fd5069d213b44bf678585dea6b12cceca9941eaf7f819626cde1f2670de90d"
  }
 },
 "nbformat": 4,
 "nbformat_minor": 2
}