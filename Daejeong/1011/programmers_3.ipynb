{
 "cells": [
  {
   "cell_type": "markdown",
   "source": [
    "## 프로그래머스(Lv.1/2018 KAKAO BLIND RECRUITMENT) : 비밀지도 / [문제 링크](https://programmers.co.kr/learn/courses/30/lessons/17681)"
   ],
   "metadata": {}
  },
  {
   "cell_type": "code",
   "execution_count": 13,
   "source": [
    "def solution(n, arr1, arr2):\r\n",
    "    map1 = []\r\n",
    "    answer = []\r\n",
    "    for i in arr1:\r\n",
    "        map1.append(str(bin(i))[2:].zfill(n))\r\n",
    "\r\n",
    "    for idx_1, i in enumerate(arr2):\r\n",
    "        convert = str(bin(i))[2:].zfill(n)\r\n",
    "        string = ''\r\n",
    "        for idx_2, j in enumerate(convert):\r\n",
    "            if map1[idx_1][idx_2] == '1' or j == '1':\r\n",
    "                string += '#'\r\n",
    "            else:\r\n",
    "                string += ' '\r\n",
    "        answer.append(string)\r\n",
    "\r\n",
    "    return answer\r\n",
    "\r\n",
    "# 처음 알게된거 zfill, bin\r\n",
    "# bin(number) => 숫자를 2진수로 바꿔줌\r\n",
    "# .zfill(number) => number에 들어간 숫자의 자리수가 될때까지 앞에 0을 붙여줌\r\n",
    "# \"300\".zfill(5) => \"00300\"\r\n",
    "\r\n",
    "n = 5\r\n",
    "arr1 = [9, 20, 28, 18, 11]\r\n",
    "arr2 = [30, 1, 21, 17, 28]\r\n",
    "answer = solution(n, arr1, arr2)"
   ],
   "outputs": [
    {
     "output_type": "stream",
     "name": "stdout",
     "text": [
      "0 0\n",
      "0 1\n",
      "0 2\n",
      "0 3\n",
      "0 4\n",
      "1 0\n",
      "2 0\n",
      "2 1\n",
      "2 2\n",
      "2 3\n",
      "2 4\n",
      "3 0\n",
      "3 1\n",
      "3 2\n",
      "3 3\n",
      "3 4\n",
      "4 0\n",
      "4 1\n",
      "4 2\n",
      "4 3\n",
      "4 4\n",
      "['#####', '#', '### #', '#  ##', '#####']\n"
     ]
    }
   ],
   "metadata": {}
  }
 ],
 "metadata": {
  "orig_nbformat": 4,
  "language_info": {
   "name": "python",
   "version": "3.9.5",
   "mimetype": "text/x-python",
   "codemirror_mode": {
    "name": "ipython",
    "version": 3
   },
   "pygments_lexer": "ipython3",
   "nbconvert_exporter": "python",
   "file_extension": ".py"
  },
  "kernelspec": {
   "name": "python3",
   "display_name": "Python 3.9.5 64-bit"
  },
  "interpreter": {
   "hash": "63fd5069d213b44bf678585dea6b12cceca9941eaf7f819626cde1f2670de90d"
  }
 },
 "nbformat": 4,
 "nbformat_minor": 2
}