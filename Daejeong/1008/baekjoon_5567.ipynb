{
 "cells": [
  {
   "cell_type": "markdown",
   "source": [
    "## 백준(5567번/실버1/구현) : 결혼식 / [문제 링크](https://www.acmicpc.net/problem/5567)"
   ],
   "metadata": {}
  },
  {
   "cell_type": "code",
   "execution_count": 17,
   "source": [
    "N = int(input())\r\n",
    "M = int(input())\r\n",
    "\r\n",
    "is_friend = [[False]*N for _ in range(N)]\r\n",
    "count = 0\r\n",
    "\r\n",
    "# 친구를 표시할 수 있는 N*N 사이즈의 행렬 생성\r\n",
    "for _ in range(M):\r\n",
    "    a, b = map(int, input().split())\r\n",
    "    # 친구위치는 true로 선언\r\n",
    "    is_friend[a-1][b-1] = True\r\n",
    "\r\n",
    "is_friend2 = []\r\n",
    "\r\n",
    "# 주인공의 친구를 확인해보기 위해 돌려줌\r\n",
    "for idx, friend in enumerate(is_friend[0]):\r\n",
    "    if friend:\r\n",
    "        count += 1\r\n",
    "        is_friend2.append(idx)\r\n",
    "\r\n",
    "# 친구의 친구를 확인해보기 위해 돌려줌\r\n",
    "if len(is_friend2):\r\n",
    "    for i in is_friend2:\r\n",
    "        for idx, second_friend in enumerate(is_friend[i][i:]):\r\n",
    "            if second_friend and (i + idx) not in is_friend2:\r\n",
    "                count += 1\r\n",
    "\r\n",
    "print(count)"
   ],
   "outputs": [
    {
     "output_type": "error",
     "ename": "ValueError",
     "evalue": "invalid literal for int() with base 10: ''",
     "traceback": [
      "\u001b[1;31m---------------------------------------------------------------------------\u001b[0m",
      "\u001b[1;31mValueError\u001b[0m                                Traceback (most recent call last)",
      "\u001b[1;32m<ipython-input-17-1b0612b05660>\u001b[0m in \u001b[0;36m<module>\u001b[1;34m\u001b[0m\n\u001b[1;32m----> 1\u001b[1;33m \u001b[0mN\u001b[0m \u001b[1;33m=\u001b[0m \u001b[0mint\u001b[0m\u001b[1;33m(\u001b[0m\u001b[0minput\u001b[0m\u001b[1;33m(\u001b[0m\u001b[1;33m)\u001b[0m\u001b[1;33m)\u001b[0m\u001b[1;33m\u001b[0m\u001b[1;33m\u001b[0m\u001b[0m\n\u001b[0m\u001b[0;32m      2\u001b[0m \u001b[0mM\u001b[0m \u001b[1;33m=\u001b[0m \u001b[0mint\u001b[0m\u001b[1;33m(\u001b[0m\u001b[0minput\u001b[0m\u001b[1;33m(\u001b[0m\u001b[1;33m)\u001b[0m\u001b[1;33m)\u001b[0m\u001b[1;33m\u001b[0m\u001b[1;33m\u001b[0m\u001b[0m\n\u001b[0;32m      3\u001b[0m \u001b[1;33m\u001b[0m\u001b[0m\n\u001b[0;32m      4\u001b[0m \u001b[0mis_friend\u001b[0m \u001b[1;33m=\u001b[0m \u001b[1;33m[\u001b[0m\u001b[1;33m[\u001b[0m\u001b[1;32mFalse\u001b[0m\u001b[1;33m]\u001b[0m\u001b[1;33m*\u001b[0m\u001b[0mN\u001b[0m \u001b[1;32mfor\u001b[0m \u001b[0m_\u001b[0m \u001b[1;32min\u001b[0m \u001b[0mrange\u001b[0m\u001b[1;33m(\u001b[0m\u001b[0mN\u001b[0m\u001b[1;33m)\u001b[0m\u001b[1;33m]\u001b[0m\u001b[1;33m\u001b[0m\u001b[1;33m\u001b[0m\u001b[0m\n\u001b[0;32m      5\u001b[0m \u001b[0mcount\u001b[0m \u001b[1;33m=\u001b[0m \u001b[1;36m0\u001b[0m\u001b[1;33m\u001b[0m\u001b[1;33m\u001b[0m\u001b[0m\n",
      "\u001b[1;31mValueError\u001b[0m: invalid literal for int() with base 10: ''"
     ]
    }
   ],
   "metadata": {}
  },
  {
   "cell_type": "code",
   "execution_count": null,
   "source": [
    "# 이것 맞음 (그래프 검수 문제다보니 dfs, bfs를 많이들 활용하는듯)\r\n",
    "import sys\r\n",
    "from collections import deque\r\n",
    "\r\n",
    "def bfs(x):\r\n",
    "    visited = [0] * n\r\n",
    "    visited[x] = 1\r\n",
    "    q.append(x)\r\n",
    "    while q:\r\n",
    "        x = q.popleft()\r\n",
    "        for i in friends[x]:\r\n",
    "            if not visited[i]:\r\n",
    "                visited[i] = visited[x] + 1\r\n",
    "                q.append(i)\r\n",
    "    return visited\r\n",
    "\r\n",
    "\r\n",
    "n = int(sys.stdin.readline())\r\n",
    "m = int(sys.stdin.readline())\r\n",
    "friends = [[] for _ in range(n)]\r\n",
    "\r\n",
    "for _ in range(m):\r\n",
    "    a, b = map(int, sys.stdin.readline().split())\r\n",
    "    friends[a-1].append(b-1)\r\n",
    "    friends[b-1].append(a-1)\r\n",
    "\r\n",
    "q = deque()\r\n",
    "cnt = 0\r\n",
    "\r\n",
    "res = bfs(0)\r\n",
    "for res_ in res:\r\n",
    "    if 1 < res_ <= 3:   # 1 : 본인, 2 : 친구, 3 : 친구의 친구\r\n",
    "        cnt += 1\r\n",
    "print(cnt)"
   ],
   "outputs": [],
   "metadata": {}
  }
 ],
 "metadata": {
  "orig_nbformat": 4,
  "language_info": {
   "name": "python",
   "version": "3.8.3",
   "mimetype": "text/x-python",
   "codemirror_mode": {
    "name": "ipython",
    "version": 3
   },
   "pygments_lexer": "ipython3",
   "nbconvert_exporter": "python",
   "file_extension": ".py"
  },
  "kernelspec": {
   "name": "python3",
   "display_name": "Python 3.8.3 64-bit ('base': conda)"
  },
  "interpreter": {
   "hash": "b3ba2566441a7c06988d0923437866b63cedc61552a5af99d1f4fb67d367b25f"
  }
 },
 "nbformat": 4,
 "nbformat_minor": 2
}