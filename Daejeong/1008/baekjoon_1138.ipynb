{
 "cells": [
  {
   "cell_type": "markdown",
   "source": [
    "## 백준(1138번/실버2/구현) : 한 줄로 서기 / [문제 링크](https://www.acmicpc.net/problem/1138)"
   ],
   "metadata": {}
  },
  {
   "cell_type": "code",
   "execution_count": 35,
   "source": [
    "# 원래 내 코드\r\n",
    "people = int(input())\r\n",
    "line_list = list(map(int, input().split()))\r\n",
    "index_list = [0 for _ in range(people)]\r\n",
    "done_list = [False for _ in range(people)]\r\n",
    "\r\n",
    "# 첫번째 입력값은 무조건 키가 가장 작으므로, 값의 인덱스 위치에 존재함\r\n",
    "# 2 => index_list의 3번째 자리 => 그래야 앞에 2명이 존재하니까\r\n",
    "# 굳이 반복문 돌려가며 진행할 필요가 없음(이게 더 효율적인거같음)\r\n",
    "index_list[line_list[0]] = 1\r\n",
    "done_list[line_list[0]] = True\r\n",
    "\r\n",
    "# 두번째부터 마지막 직전까지 연산진행\r\n",
    "# i는 현재 몇번째 키의 순서인지 표시\r\n",
    "for i in range(1, people-1):\r\n",
    "    count = 0\r\n",
    "    for j, done in enumerate(done_list):\r\n",
    "        if done==False and count==line_list[i]:\r\n",
    "            done_list[j] = True\r\n",
    "            index_list[j] = i+1\r\n",
    "            break\r\n",
    "        elif done==True and count==line_list[i]:\r\n",
    "            continue\r\n",
    "        else:\r\n",
    "            count += 1\r\n",
    "\r\n",
    "# 마지막 연산 진행\r\n",
    "for i, done in enumerate(done_list):\r\n",
    "    if done==False:\r\n",
    "        index_list[i] = people\r\n",
    "\r\n",
    "print(*index_list)\r\n"
   ],
   "outputs": [
    {
     "output_type": "stream",
     "name": "stdout",
     "text": [
      "4 2 1 3\n"
     ]
    }
   ],
   "metadata": {}
  },
  {
   "cell_type": "code",
   "execution_count": 36,
   "source": [
    "people = int(input())\r\n",
    "line_list = list(map(int, input().split()))\r\n",
    "index_list = [0]*people\r\n",
    "\r\n",
    "for i in range(people):\r\n",
    "    count = 0\r\n",
    "    # 반복을 돌려서 count가 앞에서있는 키큰사람수와 같고, 여기에 서있는 사람이 없을때\r\n",
    "    for j in range(people):\r\n",
    "        if count==line_list[i] and index_list[j]==0:\r\n",
    "            index_list[j] = i+1\r\n",
    "            break\r\n",
    "        # 그냥 서있는사람만 없을때\r\n",
    "        elif index_list[j]==0:\r\n",
    "            count += 1\r\n",
    "        # count가 키큰사람수와 같고, 서있는사람이 있으면 다음위치로 이동\r\n",
    "print(*index_list)"
   ],
   "outputs": [
    {
     "output_type": "stream",
     "name": "stdout",
     "text": [
      "4 2 1 3\n"
     ]
    }
   ],
   "metadata": {}
  }
 ],
 "metadata": {
  "orig_nbformat": 4,
  "language_info": {
   "name": "python",
   "version": "3.8.3",
   "mimetype": "text/x-python",
   "codemirror_mode": {
    "name": "ipython",
    "version": 3
   },
   "pygments_lexer": "ipython3",
   "nbconvert_exporter": "python",
   "file_extension": ".py"
  },
  "kernelspec": {
   "name": "python3",
   "display_name": "Python 3.8.3 64-bit ('base': conda)"
  },
  "interpreter": {
   "hash": "b3ba2566441a7c06988d0923437866b63cedc61552a5af99d1f4fb67d367b25f"
  }
 },
 "nbformat": 4,
 "nbformat_minor": 2
}