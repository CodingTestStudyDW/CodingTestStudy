{
 "cells": [
  {
   "cell_type": "markdown",
   "metadata": {},
   "source": [
    "## 백준(10026/골드5) : 적록색약 / [문제 링크](https://www.acmicpc.net/problem/10026)"
   ]
  },
  {
   "cell_type": "code",
   "execution_count": 9,
   "metadata": {},
   "outputs": [
    {
     "name": "stdout",
     "output_type": "stream",
     "text": [
      "4 3\n"
     ]
    }
   ],
   "source": [
    "import heapq, sys\n",
    "sys.setrecursionlimit(10**6)\n",
    "\n",
    "n = int(sys.stdin.readline())\n",
    "\n",
    "dx = [0, -1, 0, 1]\n",
    "dy = [1, 0, -1, 0]\n",
    "\n",
    "def dfs(x, y, color):\n",
    "    visited[x][y] = True\n",
    "\n",
    "    for i in range(4):\n",
    "        nx = x + dx[i]\n",
    "        ny = y + dy[i]\n",
    "\n",
    "        if 0 <= nx <= n-1 and 0 <= ny <= n-1:\n",
    "            if not visited[nx][ny] and board[nx][ny] in color:\n",
    "                dfs(nx, ny, color)\n",
    "\n",
    "board = [sys.stdin.readline() for _ in range(n)]\n",
    "visited = [[False]*n for _ in range(n)]\n",
    "colors = []\n",
    "# answer1 = 정상인 구분\n",
    "# answer2 = 적록색약 구분\n",
    "answer1, answer2 = [], []\n",
    "for idx, color in enumerate([['R'], ['G'], ['B'], ['R', 'G']]):\n",
    "    count = 0\n",
    "    for i in range(n):\n",
    "        for j in range(n):\n",
    "            if not visited[i][j] and board[i][j] in color:\n",
    "                dfs(i, j, color)\n",
    "                count += 1\n",
    "\n",
    "    if idx == 2:\n",
    "        # Blue의 영역은 둘다 구분 가능하니까 둘다 넣어주기\n",
    "        visited = [[False]*n for _ in range(n)]\n",
    "        answer1.append(count)\n",
    "        answer2.append(count)\n",
    "    elif idx == 3:\n",
    "        answer2.append(count)\n",
    "    else:\n",
    "        answer1.append(count)\n",
    "        \n",
    "print(sum(answer1), sum(answer2))"
   ]
  }
 ],
 "metadata": {
  "interpreter": {
   "hash": "63fd5069d213b44bf678585dea6b12cceca9941eaf7f819626cde1f2670de90d"
  },
  "kernelspec": {
   "display_name": "Python 3.9.5 64-bit",
   "language": "python",
   "name": "python3"
  },
  "language_info": {
   "codemirror_mode": {
    "name": "ipython",
    "version": 3
   },
   "file_extension": ".py",
   "mimetype": "text/x-python",
   "name": "python",
   "nbconvert_exporter": "python",
   "pygments_lexer": "ipython3",
   "version": "3.9.5"
  },
  "orig_nbformat": 4
 },
 "nbformat": 4,
 "nbformat_minor": 2
}
