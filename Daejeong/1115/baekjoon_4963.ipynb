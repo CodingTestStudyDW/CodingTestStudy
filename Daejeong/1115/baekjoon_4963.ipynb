{
 "cells": [
  {
   "cell_type": "markdown",
   "metadata": {},
   "source": [
    "## 백준(4963/실버2) : 섬의 개수 / [문제 링크](https://www.acmicpc.net/problem/4963)"
   ]
  },
  {
   "cell_type": "code",
   "execution_count": null,
   "metadata": {},
   "outputs": [],
   "source": [
    "import sys\n",
    "sys.setrecursionlimit(10**6)\n",
    "\n",
    "# 대각선 라인도 포함\n",
    "dx = [0, -1, 0, 1, 1, 1, -1, -1]\n",
    "dy = [1, 0, -1, 0, 1, -1, 1, -1]\n",
    "\n",
    "def dfs(x, y):\n",
    "    graph[x][y] = 0\n",
    "\n",
    "    for i in range(8):\n",
    "        nx = x + dx[i]\n",
    "        ny = y + dy[i]\n",
    "\n",
    "        if 0 <= nx <= h-1 and 0 <= ny <= w-1:\n",
    "            if graph[nx][ny] == 1:\n",
    "                dfs(nx, ny)\n",
    "\n",
    "while True:\n",
    "    w, h = map(int, sys.stdin.readline().split())\n",
    "\n",
    "    if w == 0 and h == 0:\n",
    "        break\n",
    "\n",
    "    graph = [[] for _ in range(h)]\n",
    "    count = 0\n",
    "    for i in range(h):\n",
    "        line = list(map(int, sys.stdin.readline().split()))\n",
    "        graph[i] = line\n",
    "\n",
    "    for i in range(h):\n",
    "        for j in range(w):\n",
    "            if graph[i][j] == 1:\n",
    "                dfs(i, j)\n",
    "                count += 1\n",
    "\n",
    "    print(count)\n",
    "\n",
    "# index를 잘 봅시다..."
   ]
  }
 ],
 "metadata": {
  "interpreter": {
   "hash": "63fd5069d213b44bf678585dea6b12cceca9941eaf7f819626cde1f2670de90d"
  },
  "kernelspec": {
   "display_name": "Python 3.9.5 64-bit",
   "language": "python",
   "name": "python3"
  },
  "language_info": {
   "codemirror_mode": {
    "name": "ipython",
    "version": 3
   },
   "file_extension": ".py",
   "mimetype": "text/x-python",
   "name": "python",
   "nbconvert_exporter": "python",
   "pygments_lexer": "ipython3",
   "version": "3.9.5"
  },
  "orig_nbformat": 4
 },
 "nbformat": 4,
 "nbformat_minor": 2
}
