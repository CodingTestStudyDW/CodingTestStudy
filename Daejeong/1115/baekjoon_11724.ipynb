{
 "cells": [
  {
   "cell_type": "markdown",
   "metadata": {},
   "source": [
    "## 백준(11724/실버2) : 연결 요소의 개수 / [문제 링크](https://www.acmicpc.net/problem/11724)"
   ]
  },
  {
   "cell_type": "code",
   "execution_count": null,
   "metadata": {},
   "outputs": [],
   "source": [
    "import sys\n",
    "sys.setrecursionlimit(10**6)\n",
    "\n",
    "n, m = map(int, sys.stdin.readline().split())\n",
    "\n",
    "def dfs(v):\n",
    "    visited[v] = True\n",
    "    for i in graph[v]:\n",
    "        if not visited[i]:\n",
    "            dfs(i)\n",
    "\n",
    "# 1 ~ 6까지 만들기위해\n",
    "graph = [[] for _ in range(n + 1)]\n",
    "visited = [False] * (n+1)\n",
    "count = 0\n",
    "\n",
    "for _ in range(m):\n",
    "    u, v = map(int, sys.stdin.readline().split())\n",
    "    # 간선 표시\n",
    "    graph[u].append(v)\n",
    "    graph[v].append(u)\n",
    "\n",
    "for i in range(1, n+1):\n",
    "    if not visited[i]:\n",
    "        dfs(i)\n",
    "        count += 1\n",
    "\n",
    "print(count)\n",
    "\n",
    "# input() = 시간 초과, 메모리 초과\n",
    "# sys.stdin.readline() = 깔끔 :)..?"
   ]
  }
 ],
 "metadata": {
  "interpreter": {
   "hash": "63fd5069d213b44bf678585dea6b12cceca9941eaf7f819626cde1f2670de90d"
  },
  "kernelspec": {
   "display_name": "Python 3.9.5 64-bit",
   "language": "python",
   "name": "python3"
  },
  "language_info": {
   "codemirror_mode": {
    "name": "ipython",
    "version": 3
   },
   "file_extension": ".py",
   "mimetype": "text/x-python",
   "name": "python",
   "nbconvert_exporter": "python",
   "pygments_lexer": "ipython3",
   "version": "3.9.5"
  },
  "orig_nbformat": 4
 },
 "nbformat": 4,
 "nbformat_minor": 2
}
