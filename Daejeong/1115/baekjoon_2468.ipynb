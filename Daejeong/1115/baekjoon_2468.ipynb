{
 "cells": [
  {
   "cell_type": "markdown",
   "metadata": {},
   "source": [
    "## 백준(2468/실버1) : 안전 영역 / [문제 링크](https://www.acmicpc.net/problem/2468)"
   ]
  },
  {
   "cell_type": "code",
   "execution_count": 7,
   "metadata": {},
   "outputs": [
    {
     "name": "stdout",
     "output_type": "stream",
     "text": [
      "1\n"
     ]
    }
   ],
   "source": [
    "import heapq, sys\n",
    "sys.setrecursionlimit(10**6)\n",
    "\n",
    "dx = [0, -1, 0, 1]\n",
    "dy = [1, 0, -1, 0]\n",
    "\n",
    "n = int(sys.stdin.readline())\n",
    "board = [ list(map(int, sys.stdin.readline().split())) for _ in range(n) ]\n",
    "answer = []\n",
    "\n",
    "def dfs(x, y, height):\n",
    "    visited[x][y] = True\n",
    "\n",
    "    for i in range(4):\n",
    "        nx = x + dx[i]\n",
    "        ny = y + dy[i]\n",
    "\n",
    "        if 0 <= nx <= n-1 and 0 <= ny <= n-1:\n",
    "            if visited[nx][ny] == False and board[nx][ny] > height:\n",
    "                dfs(nx, ny, height)\n",
    "\n",
    "for height in range(min(min(board)), max(max(board))):\n",
    "    visited = [[False]*n for _ in range(n)]\n",
    "    count = 0\n",
    "\n",
    "    for j in range(n):\n",
    "        for k in range(n):\n",
    "            # 물에 잠길 높이보다 높을때\n",
    "            if visited[j][k] == False and board[j][k] > height:\n",
    "                dfs(j, k, height)\n",
    "                count -= 1\n",
    "\n",
    "    # 최대 힙 사용\n",
    "    heapq.heappush(answer, count)\n",
    "\n",
    "try:\n",
    "    print(-1 * heapq.heappop(answer))\n",
    "except:\n",
    "    print(1)"
   ]
  }
 ],
 "metadata": {
  "interpreter": {
   "hash": "63fd5069d213b44bf678585dea6b12cceca9941eaf7f819626cde1f2670de90d"
  },
  "kernelspec": {
   "display_name": "Python 3.9.5 64-bit",
   "language": "python",
   "name": "python3"
  },
  "language_info": {
   "codemirror_mode": {
    "name": "ipython",
    "version": 3
   },
   "file_extension": ".py",
   "mimetype": "text/x-python",
   "name": "python",
   "nbconvert_exporter": "python",
   "pygments_lexer": "ipython3",
   "version": "3.9.5"
  },
  "orig_nbformat": 4
 },
 "nbformat": 4,
 "nbformat_minor": 2
}
