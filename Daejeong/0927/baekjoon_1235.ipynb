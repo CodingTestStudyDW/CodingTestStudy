{
 "cells": [
  {
   "cell_type": "markdown",
   "source": [
    "## 백준(1235번/실버4) : 학생 번호 / [문제 링크](https://www.acmicpc.net/problem/1235)"
   ],
   "metadata": {}
  },
  {
   "cell_type": "code",
   "execution_count": 8,
   "source": [
    "case = int(input())\r\n",
    "stu_nums = [input() for _ in range(case)]\r\n",
    "\r\n",
    "# 자리수 만큼 반복\r\n",
    "for i in range(1, len(stu_nums[0]) + 1):\r\n",
    "    # 최소 자리수를 비교하기위해 슬라이싱을통해 비교\r\n",
    "    check_list = [stu_num[-i:] for stu_num in stu_nums]\r\n",
    "    \r\n",
    "    # 만약 중복이 없을때, 해당 i가 정답 아니면 슬라이싱을 늘려가면서 반복 진행\r\n",
    "    if len(check_list)==len(set(check_list)):\r\n",
    "        print(i)\r\n",
    "        break"
   ],
   "outputs": [
    {
     "output_type": "stream",
     "name": "stdout",
     "text": [
      "3\n"
     ]
    }
   ],
   "metadata": {}
  }
 ],
 "metadata": {
  "orig_nbformat": 4,
  "language_info": {
   "name": "python",
   "version": "3.8.5",
   "mimetype": "text/x-python",
   "codemirror_mode": {
    "name": "ipython",
    "version": 3
   },
   "pygments_lexer": "ipython3",
   "nbconvert_exporter": "python",
   "file_extension": ".py"
  },
  "kernelspec": {
   "name": "python3",
   "display_name": "Python 3.8.5 64-bit ('base': conda)"
  },
  "interpreter": {
   "hash": "b3ba2566441a7c06988d0923437866b63cedc61552a5af99d1f4fb67d367b25f"
  }
 },
 "nbformat": 4,
 "nbformat_minor": 2
}